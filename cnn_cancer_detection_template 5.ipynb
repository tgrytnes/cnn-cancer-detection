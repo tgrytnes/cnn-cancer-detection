{
 "cells": [
  {
   "cell_type": "markdown",
   "id": "86f83f91",
   "metadata": {},
   "source": [
    "# CNN Cancer Detection – Week‑3 Notebook\n",
    "Kaggle Histopathologic Cancer Detection challenge\n",
    "\n",
    "*Goal:* build & iterate CNN models to classify histology image tiles as cancer vs. normal."
   ]
  },
  {
   "cell_type": "code",
   "execution_count": 6,
   "id": "928844a2-53b8-41e3-ae5b-f94448f2bdd4",
   "metadata": {},
   "outputs": [
    {
     "name": "stdout",
     "output_type": "stream",
     "text": [
      "\u001b[33mWARNING: Running pip as the 'root' user can result in broken permissions and conflicting behaviour with the system package manager. It is recommended to use a virtual environment instead: https://pip.pypa.io/warnings/venv\u001b[0m\u001b[33m\n",
      "\u001b[0m\n",
      "\u001b[1m[\u001b[0m\u001b[34;49mnotice\u001b[0m\u001b[1;39;49m]\u001b[0m\u001b[39;49m A new release of pip is available: \u001b[0m\u001b[31;49m23.2.1\u001b[0m\u001b[39;49m -> \u001b[0m\u001b[32;49m25.2\u001b[0m\n",
      "\u001b[1m[\u001b[0m\u001b[34;49mnotice\u001b[0m\u001b[1;39;49m]\u001b[0m\u001b[39;49m To update, run: \u001b[0m\u001b[32;49mpython3 -m pip install --upgrade pip\u001b[0m\n",
      "Note: you may need to restart the kernel to use updated packages.\n"
     ]
    }
   ],
   "source": [
    "# Environment & secrets (run once per kernel / after pod restart)\n",
    "\n",
    "# Install & non-TF imports\n",
    "%pip install -q kaggle wandb pandas matplotlib pillow tensorflow scikit-learn\n",
    "import os, random, pathlib, numpy as np, wandb\n",
    "import pandas as pd, matplotlib.pyplot as plt\n",
    "from PIL import Image\n",
    "from tqdm import tqdm\n",
    "import hashlib, time\n",
    "from pathlib import Path\n",
    "from wandb.integration.keras import WandbCallback\n",
    "from sklearn.model_selection import train_test_split\n",
    "from concurrent.futures import ThreadPoolExecutor\n",
    "\n",
    "\n",
    "# TensorFlow imports & GPU setup\n",
    "import tensorflow as tf\n",
    "\n",
    "# Enable memory growth before any TF GPU work\n",
    "for gpu in tf.config.list_physical_devices(\"GPU\"):\n",
    "    tf.config.experimental.set_memory_growth(gpu, True)\n",
    "\n",
    "# Enable mixed precision\n",
    "from tensorflow.keras import mixed_precision\n",
    "mixed_precision.set_global_policy(\"mixed_float16\")\n",
    "\n",
    "# Now import Keras modules\n",
    "from tensorflow.keras import layers, models, callbacks, optimizers, metrics\n",
    "from tensorflow.keras.applications.mobilenet_v2 import MobileNetV2, preprocess_input\n",
    "from tensorflow.keras.applications.efficientnet import EfficientNetB4, preprocess_input as efficientnet_preprocess\n",
    "from tensorflow.keras.callbacks import ModelCheckpoint\n"
   ]
  },
  {
   "cell_type": "code",
   "execution_count": null,
   "id": "c559697c-c0ad-4baf-a076-60f8fd7c7b73",
   "metadata": {},
   "outputs": [],
   "source": [
    "%%bash\n",
    "# Ensure persistent SSH dir exists\n",
    "mkdir -p /workspace/.ssh\n",
    "\n",
    "# Copy into root’s home with strict perms\n",
    "rm -rf /root/.ssh\n",
    "mkdir -p /root/.ssh\n",
    "cp -r /workspace/.ssh/* /root/.ssh/\n",
    "chmod 700 /root/.ssh\n",
    "chmod 600 /root/.ssh/id_ed25519 /root/.ssh/config\n",
    "chmod 644 /root/.ssh/id_ed25519.pub"
   ]
  },
  {
   "cell_type": "code",
   "execution_count": 4,
   "id": "c3a9494b-5338-4210-9154-12cbba04e709",
   "metadata": {
    "collapsed": true,
    "jupyter": {
     "outputs_hidden": true,
     "source_hidden": true
    }
   },
   "outputs": [
    {
     "name": "stderr",
     "output_type": "stream",
     "text": [
      "mv: cannot stat '/workspace/kaggle.json': No such file or directory\n"
     ]
    },
    {
     "name": "stdout",
     "output_type": "stream",
     "text": [
      "KAGGLE_CONFIG_DIR → /workspace/.kaggle\n",
      "Warning: Your Kaggle API key is readable by other users on this system! To fix this, you can run 'chmod 600 /workspace/.kaggle/kaggle.json'\n",
      "Configuration values from /workspace/.kaggle\n",
      "- username: thomasfeygrytnes\n",
      "- path: None\n",
      "- proxy: None\n",
      "- competition: None\n"
     ]
    }
   ],
   "source": [
    "%%bash\n",
    "# 1) Create the config directory under /workspace\n",
    "mkdir -p /workspace/.kaggle\n",
    "chmod 700 /workspace/.kaggle\n",
    "\n",
    "# 2) Move  uploaded kaggle.json into it\n",
    "mv /workspace/kaggle.json /workspace/.kaggle/kaggle.json\n",
    "\n",
    "# 3) Lock down permissions\n",
    "chmod 600 /workspace/.kaggle/kaggle.json\n",
    "\n",
    "# 4) Export the env variable so the Kaggle CLI picks it up\n",
    "export KAGGLE_CONFIG_DIR=/workspace/.kaggle\n",
    "\n",
    "# 5) Verify\n",
    "echo \"KAGGLE_CONFIG_DIR → $KAGGLE_CONFIG_DIR\"\n",
    "kaggle config view"
   ]
  },
  {
   "cell_type": "code",
   "execution_count": 6,
   "id": "4e0b73c5",
   "metadata": {
    "collapsed": true,
    "jupyter": {
     "outputs_hidden": true,
     "source_hidden": true
    },
    "tags": [
     "setup",
     "hide-input"
    ]
   },
   "outputs": [
    {
     "name": "stderr",
     "output_type": "stream",
     "text": [
      "\u001b[34m\u001b[1mwandb\u001b[0m: Logging into wandb.ai. (Learn how to deploy a W&B server locally: https://wandb.me/wandb-server)\n",
      "\u001b[34m\u001b[1mwandb\u001b[0m: You can find your API key in your browser here: https://wandb.ai/authorize\n",
      "\u001b[34m\u001b[1mwandb\u001b[0m: Paste an API key from your profile and hit enter:"
     ]
    },
    {
     "name": "stdin",
     "output_type": "stream",
     "text": [
      "  ········\n"
     ]
    },
    {
     "name": "stderr",
     "output_type": "stream",
     "text": [
      "\u001b[34m\u001b[1mwandb\u001b[0m: \u001b[33mWARNING\u001b[0m If you're specifying your api key in code, ensure this code is not shared publicly.\n",
      "\u001b[34m\u001b[1mwandb\u001b[0m: \u001b[33mWARNING\u001b[0m Consider setting the WANDB_API_KEY environment variable, or running `wandb login` from the command line.\n",
      "\u001b[34m\u001b[1mwandb\u001b[0m: No netrc file found, creating one.\n",
      "\u001b[34m\u001b[1mwandb\u001b[0m: Appending key for api.wandb.ai to your netrc file: /root/.netrc\n",
      "\u001b[34m\u001b[1mwandb\u001b[0m: Currently logged in as: \u001b[33mthomas-m8xa7mf\u001b[0m (\u001b[33mthomas-m8xa7mf-student-beans\u001b[0m) to \u001b[32mhttps://api.wandb.ai\u001b[0m. Use \u001b[1m`wandb login --relogin`\u001b[0m to force relogin\n"
     ]
    }
   ],
   "source": [
    "# 📦----------------------------------------------------------------------\n",
    "\n",
    "\n",
    "\n",
    "# ── Reproducibility -----------------------------------------------------\n",
    "SEED = 42\n",
    "random.seed(SEED); np.random.seed(SEED);\n",
    "\n",
    "# ── Paths ---------------------------------------------------------------\n",
    "PROJECT_ROOT = pathlib.Path.cwd()                  # usually /workspace\n",
    "DATA_DIR      = pathlib.Path(\"/workspace/data\")    # persistent dataset\n",
    "DATA_DIR.mkdir(exist_ok=True)\n",
    "\n",
    "\n",
    "# ── Kaggle CLI: tell it where the token lives ---------------------------\n",
    "os.environ[\"KAGGLE_CONFIG_DIR\"] = \"/workspace/.kaggle\"\n",
    "\n",
    "# ── W&B: persistent, prompt-once login ----------------------------------\n",
    "KEY_FILE = pathlib.Path(\"/workspace/.wandb_api_key\")\n",
    "if KEY_FILE.exists():                         # reuse stored key\n",
    "    os.environ[\"WANDB_API_KEY\"] = KEY_FILE.read_text().strip()\n",
    "    wandb.login(key=os.environ[\"WANDB_API_KEY\"], relogin=True)\n",
    "else:                                         # first run → ask & cache\n",
    "    wandb.login()                             # paste key when prompted\n",
    "    saved_key = os.getenv(\"WANDB_API_KEY\")\n",
    "    if saved_key:\n",
    "        KEY_FILE.write_text(saved_key)\n",
    "        KEY_FILE.chmod(0o600)                 # read/write for you only\n",
    "        print(f\"W&B API key saved to {KEY_FILE}\")\n",
    "# -----------------------------------------------------------------------"
   ]
  },
  {
   "cell_type": "markdown",
   "id": "ec1a5bba",
   "metadata": {},
   "source": [
    "## Data download & verification"
   ]
  },
  {
   "cell_type": "code",
   "execution_count": null,
   "id": "631cebd1",
   "metadata": {},
   "outputs": [
    {
     "name": "stdout",
     "output_type": "stream",
     "text": [
      "Get:1 http://security.ubuntu.com/ubuntu jammy-security InRelease [129 kB]\n",
      "Get:2 https://developer.download.nvidia.com/compute/cuda/repos/ubuntu2204/x86_64  InRelease [1581 B]\n",
      "Get:3 http://archive.ubuntu.com/ubuntu jammy InRelease [270 kB]             \n",
      "Get:4 http://security.ubuntu.com/ubuntu jammy-security/universe amd64 Packages [1270 kB]\n",
      "Get:5 http://security.ubuntu.com/ubuntu jammy-security/multiverse amd64 Packages [48.5 kB]\n",
      "Get:6 http://security.ubuntu.com/ubuntu jammy-security/main amd64 Packages [3207 kB]\n",
      "Get:7 https://developer.download.nvidia.com/compute/cuda/repos/ubuntu2204/x86_64  Packages [1918 kB]\n",
      "Get:8 http://security.ubuntu.com/ubuntu jammy-security/restricted amd64 Packages [5103 kB]\n",
      "Get:9 http://archive.ubuntu.com/ubuntu jammy-updates InRelease [128 kB]        \n",
      "Get:10 http://archive.ubuntu.com/ubuntu jammy-backports InRelease [127 kB]\n",
      "Get:11 http://archive.ubuntu.com/ubuntu jammy/main amd64 Packages [1792 kB]\n",
      "Get:12 http://archive.ubuntu.com/ubuntu jammy/restricted amd64 Packages [164 kB]\n",
      "Get:13 http://archive.ubuntu.com/ubuntu jammy/universe amd64 Packages [17.5 MB]\n",
      "Get:14 http://archive.ubuntu.com/ubuntu jammy/multiverse amd64 Packages [266 kB]\n",
      "Get:15 http://archive.ubuntu.com/ubuntu jammy-updates/universe amd64 Packages [1575 kB]\n",
      "Get:16 http://archive.ubuntu.com/ubuntu jammy-updates/restricted amd64 Packages [5290 kB]\n",
      "Get:17 http://archive.ubuntu.com/ubuntu jammy-updates/multiverse amd64 Packages [75.9 kB]\n",
      "Get:18 http://archive.ubuntu.com/ubuntu jammy-updates/main amd64 Packages [3518 kB]\n",
      "Get:19 http://archive.ubuntu.com/ubuntu jammy-backports/universe amd64 Packages [35.2 kB]\n",
      "Get:20 http://archive.ubuntu.com/ubuntu jammy-backports/main amd64 Packages [83.2 kB]\n",
      "Fetched 42.5 MB in 2s (17.5 MB/s)                             \n",
      "Reading package lists... Done\n",
      "Reading package lists... Done\n",
      "Building dependency tree... Done\n",
      "Reading state information... Done\n",
      "Suggested packages:\n",
      "  zip\n",
      "The following packages will be upgraded:\n",
      "  unzip\n",
      "1 upgraded, 0 newly installed, 0 to remove and 145 not upgraded.\n",
      "Need to get 175 kB of archives.\n",
      "After this operation, 1024 B of additional disk space will be used.\n",
      "Get:1 http://archive.ubuntu.com/ubuntu jammy-updates/main amd64 unzip amd64 6.0-26ubuntu3.2 [175 kB]\n",
      "Fetched 175 kB in 0s (2094 kB/s)\n",
      "debconf: delaying package configuration, since apt-utils is not installed\n",
      "(Reading database ... 20752 files and directories currently installed.)\n",
      "Preparing to unpack .../unzip_6.0-26ubuntu3.2_amd64.deb ...\n",
      "Unpacking unzip (6.0-26ubuntu3.2) over (6.0-26ubuntu3.1) ...\n",
      "Setting up unzip (6.0-26ubuntu3.2) ...\n",
      "Warning: Your Kaggle API key is readable by other users on this system! To fix this, you can run 'chmod 600 /workspace/.kaggle/kaggle.json'\n",
      "Downloading histopathologic-cancer-detection.zip to data\n",
      "100%|██████████████████████████████████████▊| 6.28G/6.31G [00:27<00:00, 338MB/s]\n",
      "100%|███████████████████████████████████████| 6.31G/6.31G [00:27<00:00, 247MB/s]\n"
     ]
    }
   ],
   "source": [
    "# Only run first time on new server!!\n",
    "\n",
    "!apt-get update && apt-get install -y unzip\n",
    "\n",
    "from pathlib import Path\n",
    "DATA_DIR = Path(\"/workspace/data\")   # persistent volume\n",
    "DATA_DIR.mkdir(exist_ok=True)\n",
    "# Download competition data (~1.2 GB) to ./data\n",
    "!kaggle competitions download -c histopathologic-cancer-detection -p data\n",
    "!unzip -q data/histopathologic-cancer-detection.zip -d data\n",
    "import glob, json, subprocess, pathlib\n",
    "print(len(glob.glob('data/train/*.tif')), 'training tiles')\n",
    "\n"
   ]
  },
  {
   "cell_type": "code",
   "execution_count": null,
   "id": "cfb90184-fcd2-4dc3-b401-413048f26566",
   "metadata": {},
   "outputs": [],
   "source": [
    "DATA_DIR = pathlib.Path(\"/workspace/data\")\n",
    "df       = pd.read_csv(DATA_DIR / \"train_labels.csv\")\n",
    "all_paths = [DATA_DIR/\"train\"/f\"{img_id}.tif\" for img_id in df.id]"
   ]
  },
  {
   "cell_type": "markdown",
   "id": "61227b5e",
   "metadata": {},
   "source": [
    "# Data Integrity Checks"
   ]
  },
  {
   "cell_type": "code",
   "execution_count": 5,
   "id": "2ff5a246-c0c9-4d42-a8c8-3ebaf44c7422",
   "metadata": {
    "collapsed": true,
    "jupyter": {
     "outputs_hidden": true
    }
   },
   "outputs": [
    {
     "name": "stderr",
     "output_type": "stream",
     "text": [
      "Verifying files:  55%|█████▌    | 121653/220025 [17:06<17:48, 92.06it/s]IOPub message rate exceeded.\n",
      "The Jupyter server will temporarily stop sending output\n",
      "to the client in order to avoid crashing it.\n",
      "To change this limit, set the config variable\n",
      "`--ServerApp.iopub_msg_rate_limit`.\n",
      "\n",
      "Current values:\n",
      "ServerApp.iopub_msg_rate_limit=1000.0 (msgs/sec)\n",
      "ServerApp.rate_limit_window=3.0 (secs)\n",
      "\n"
     ]
    }
   ],
   "source": [
    "# Let us check if we have any broken files\n",
    "\n",
    "broken = []\n",
    "for p in tqdm(all_paths, desc=\"Verifying files\"):\n",
    "    try:\n",
    "        img = Image.open(p)\n",
    "        img.verify()\n",
    "    except Exception:\n",
    "        broken.append(p)\n",
    "\n",
    "print(f\"Unreadable/corrupted files: {len(broken)}\")\n"
   ]
  },
  {
   "cell_type": "code",
   "execution_count": 10,
   "id": "1cce92b7",
   "metadata": {},
   "outputs": [
    {
     "name": "stderr",
     "output_type": "stream",
     "text": [
      "Checking zero-byte files: 100%|██████████| 220025/220025 [01:29<00:00, 2446.65it/s]"
     ]
    },
    {
     "name": "stdout",
     "output_type": "stream",
     "text": [
      "Found 0 zero-byte files\n"
     ]
    },
    {
     "name": "stderr",
     "output_type": "stream",
     "text": [
      "\n"
     ]
    }
   ],
   "source": [
    "# Let us check if we have any files with zero bytes\n",
    "\n",
    "zero_byte = []\n",
    "for p in tqdm(all_paths, desc=\"Checking zero-byte files\"):\n",
    "    if os.path.getsize(p) == 0:\n",
    "        zero_byte.append(p)\n",
    "\n",
    "print(f\"Found {len(zero_byte)} zero-byte files\")"
   ]
  },
  {
   "cell_type": "code",
   "execution_count": 8,
   "id": "6463022e-c7d5-4da6-b61d-2f384cf2544f",
   "metadata": {
    "collapsed": true,
    "jupyter": {
     "outputs_hidden": true
    }
   },
   "outputs": [
    {
     "name": "stderr",
     "output_type": "stream",
     "text": [
      "Checking duplicates:   3%|▎         | 7360/220025 [00:55<26:57, 131.47it/s]\n"
     ]
    },
    {
     "ename": "KeyboardInterrupt",
     "evalue": "",
     "output_type": "error",
     "traceback": [
      "\u001b[31m---------------------------------------------------------------------------\u001b[39m",
      "\u001b[31mKeyboardInterrupt\u001b[39m                         Traceback (most recent call last)",
      "\u001b[36mCell\u001b[39m\u001b[36m \u001b[39m\u001b[32mIn[8]\u001b[39m\u001b[32m, line 5\u001b[39m\n\u001b[32m      3\u001b[39m hashes, dupes = {}, []\n\u001b[32m      4\u001b[39m \u001b[38;5;28;01mfor\u001b[39;00m p \u001b[38;5;129;01min\u001b[39;00m tqdm(all_paths, desc=\u001b[33m\"\u001b[39m\u001b[33mChecking duplicates\u001b[39m\u001b[33m\"\u001b[39m):\n\u001b[32m----> \u001b[39m\u001b[32m5\u001b[39m     h = hashlib.md5(\u001b[43mp\u001b[49m\u001b[43m.\u001b[49m\u001b[43mread_bytes\u001b[49m\u001b[43m(\u001b[49m\u001b[43m)\u001b[49m).hexdigest()\n\u001b[32m      6\u001b[39m     \u001b[38;5;28;01mif\u001b[39;00m h \u001b[38;5;129;01min\u001b[39;00m hashes: dupes.append((hashes[h], p))\n\u001b[32m      7\u001b[39m     \u001b[38;5;28;01melse\u001b[39;00m:            hashes[h] = p\n",
      "\u001b[36mFile \u001b[39m\u001b[32m/usr/lib/python3.11/pathlib.py:1051\u001b[39m, in \u001b[36mPath.read_bytes\u001b[39m\u001b[34m(self)\u001b[39m\n\u001b[32m   1047\u001b[39m \u001b[38;5;250m\u001b[39m\u001b[33;03m\"\"\"\u001b[39;00m\n\u001b[32m   1048\u001b[39m \u001b[33;03mOpen the file in bytes mode, read it, and close the file.\u001b[39;00m\n\u001b[32m   1049\u001b[39m \u001b[33;03m\"\"\"\u001b[39;00m\n\u001b[32m   1050\u001b[39m \u001b[38;5;28;01mwith\u001b[39;00m \u001b[38;5;28mself\u001b[39m.open(mode=\u001b[33m'\u001b[39m\u001b[33mrb\u001b[39m\u001b[33m'\u001b[39m) \u001b[38;5;28;01mas\u001b[39;00m f:\n\u001b[32m-> \u001b[39m\u001b[32m1051\u001b[39m     \u001b[38;5;28;01mreturn\u001b[39;00m f.read()\n",
      "\u001b[31mKeyboardInterrupt\u001b[39m: "
     ]
    }
   ],
   "source": [
    "# Let us check if we have any duplicate files\n",
    "\n",
    "hashes, dupes = {}, []\n",
    "for p in tqdm(all_paths, desc=\"Checking duplicates\"):\n",
    "    h = hashlib.md5(p.read_bytes()).hexdigest()\n",
    "    if h in hashes: dupes.append((hashes[h], p))\n",
    "    else:            hashes[h] = p\n",
    "print(f\"Found {len(dupes)} duplicate pairs\")"
   ]
  },
  {
   "cell_type": "code",
   "execution_count": 9,
   "id": "15f17c4f-c553-4464-9de3-a73288c0d17f",
   "metadata": {
    "collapsed": true,
    "jupyter": {
     "outputs_hidden": true
    },
    "scrolled": true
   },
   "outputs": [
    {
     "name": "stderr",
     "output_type": "stream",
     "text": [
      "Checking structure:   1%|          | 2286/220025 [00:09<14:55, 243.11it/s]\n"
     ]
    },
    {
     "ename": "KeyboardInterrupt",
     "evalue": "",
     "output_type": "error",
     "traceback": [
      "\u001b[31m---------------------------------------------------------------------------\u001b[39m",
      "\u001b[31mKeyboardInterrupt\u001b[39m                         Traceback (most recent call last)",
      "\u001b[36mCell\u001b[39m\u001b[36m \u001b[39m\u001b[32mIn[9]\u001b[39m\u001b[32m, line 6\u001b[39m\n\u001b[32m      3\u001b[39m structural_issues = []\n\u001b[32m      5\u001b[39m \u001b[38;5;28;01mfor\u001b[39;00m p \u001b[38;5;129;01min\u001b[39;00m tqdm(all_paths, desc=\u001b[33m\"\u001b[39m\u001b[33mChecking structure\u001b[39m\u001b[33m\"\u001b[39m):\n\u001b[32m----> \u001b[39m\u001b[32m6\u001b[39m     \u001b[38;5;28;01mwith\u001b[39;00m \u001b[43mImage\u001b[49m\u001b[43m.\u001b[49m\u001b[43mopen\u001b[49m\u001b[43m(\u001b[49m\u001b[43mp\u001b[49m\u001b[43m)\u001b[49m \u001b[38;5;28;01mas\u001b[39;00m img:\n\u001b[32m      7\u001b[39m         \u001b[38;5;66;03m# #dimensions: expect 96×96\u001b[39;00m\n\u001b[32m      8\u001b[39m         size_ok = img.size == (\u001b[32m96\u001b[39m, \u001b[32m96\u001b[39m)\n\u001b[32m      9\u001b[39m         \u001b[38;5;66;03m# #colormode: expect RGB\u001b[39;00m\n",
      "\u001b[36mFile \u001b[39m\u001b[32m/usr/local/lib/python3.11/dist-packages/PIL/Image.py:3466\u001b[39m, in \u001b[36mopen\u001b[39m\u001b[34m(fp, mode, formats)\u001b[39m\n\u001b[32m   3464\u001b[39m filename: \u001b[38;5;28mstr\u001b[39m | \u001b[38;5;28mbytes\u001b[39m = \u001b[33m\"\u001b[39m\u001b[33m\"\u001b[39m\n\u001b[32m   3465\u001b[39m \u001b[38;5;28;01mif\u001b[39;00m is_path(fp):\n\u001b[32m-> \u001b[39m\u001b[32m3466\u001b[39m     filename = \u001b[43mos\u001b[49m\u001b[43m.\u001b[49m\u001b[43mpath\u001b[49m\u001b[43m.\u001b[49m\u001b[43mrealpath\u001b[49m\u001b[43m(\u001b[49m\u001b[43mos\u001b[49m\u001b[43m.\u001b[49m\u001b[43mfspath\u001b[49m\u001b[43m(\u001b[49m\u001b[43mfp\u001b[49m\u001b[43m)\u001b[49m\u001b[43m)\u001b[49m\n\u001b[32m   3468\u001b[39m \u001b[38;5;28;01mif\u001b[39;00m filename:\n\u001b[32m   3469\u001b[39m     fp = builtins.open(filename, \u001b[33m\"\u001b[39m\u001b[33mrb\u001b[39m\u001b[33m\"\u001b[39m)\n",
      "\u001b[36mFile \u001b[39m\u001b[32m<frozen posixpath>:416\u001b[39m, in \u001b[36mrealpath\u001b[39m\u001b[34m(filename, strict)\u001b[39m\n",
      "\u001b[36mFile \u001b[39m\u001b[32m<frozen posixpath>:451\u001b[39m, in \u001b[36m_joinrealpath\u001b[39m\u001b[34m(path, rest, strict, seen)\u001b[39m\n",
      "\u001b[31mKeyboardInterrupt\u001b[39m: "
     ]
    }
   ],
   "source": [
    "# Let us check that all the structural properties of the files are okay.\n",
    "\n",
    "structural_issues = []\n",
    "\n",
    "for p in tqdm(all_paths, desc=\"Checking structure\"):\n",
    "    with Image.open(p) as img:\n",
    "        # #dimensions: expect 96×96\n",
    "        size_ok = img.size == (96, 96)\n",
    "        # #colormode: expect RGB\n",
    "        mode_ok = img.mode == \"RGB\"\n",
    "        # #datatype: expect uint8 pixels\n",
    "        arr = np.array(img)\n",
    "        dtype_ok = arr.dtype == np.uint8\n",
    "\n",
    "        if not (size_ok and mode_ok and dtype_ok):\n",
    "            structural_issues.append((p, img.size, img.mode, arr.dtype))\n",
    "\n",
    "print(f\"Found {len(structural_issues)} files with unexpected structure\")"
   ]
  },
  {
   "cell_type": "markdown",
   "id": "e0c324cb-52af-4b8d-a9ee-aa6a6ce1b154",
   "metadata": {},
   "source": [
    "# EDA"
   ]
  },
  {
   "cell_type": "code",
   "execution_count": 9,
   "id": "da2ad411-d4f8-4990-9baa-39e819e83618",
   "metadata": {},
   "outputs": [
    {
     "data": {
      "image/png": "[encoded data removed]",
      "text/plain": [
       "<Figure size 640x480 with 1 Axes>"
      ]
     },
     "metadata": {},
     "output_type": "display_data"
    },
    {
     "ename": "NameError",
     "evalue": "name 'DATA_DIR' is not defined",
     "output_type": "error",
     "traceback": [
      "\u001b[0;31m---------------------------------------------------------------------------\u001b[0m",
      "\u001b[0;31mNameError\u001b[0m                                 Traceback (most recent call last)",
      "Cell \u001b[0;32mIn[9], line 11\u001b[0m\n\u001b[1;32m      9\u001b[0m fig, axes \u001b[38;5;241m=\u001b[39m plt\u001b[38;5;241m.\u001b[39msubplots(\u001b[38;5;241m3\u001b[39m, \u001b[38;5;241m3\u001b[39m, figsize\u001b[38;5;241m=\u001b[39m(\u001b[38;5;241m6\u001b[39m, \u001b[38;5;241m6\u001b[39m))\n\u001b[1;32m     10\u001b[0m \u001b[38;5;28;01mfor\u001b[39;00m ax, img_id \u001b[38;5;129;01min\u001b[39;00m \u001b[38;5;28mzip\u001b[39m(axes\u001b[38;5;241m.\u001b[39mravel(), sample):\n\u001b[0;32m---> 11\u001b[0m     ax\u001b[38;5;241m.\u001b[39mimshow(Image\u001b[38;5;241m.\u001b[39mopen(\u001b[43mDATA_DIR\u001b[49m \u001b[38;5;241m/\u001b[39m \u001b[38;5;124m\"\u001b[39m\u001b[38;5;124mtrain\u001b[39m\u001b[38;5;124m\"\u001b[39m \u001b[38;5;241m/\u001b[39m \u001b[38;5;124mf\u001b[39m\u001b[38;5;124m\"\u001b[39m\u001b[38;5;132;01m{\u001b[39;00mimg_id\u001b[38;5;132;01m}\u001b[39;00m\u001b[38;5;124m.tif\u001b[39m\u001b[38;5;124m\"\u001b[39m))\n\u001b[1;32m     12\u001b[0m     ax\u001b[38;5;241m.\u001b[39mset_title(\u001b[38;5;124mf\u001b[39m\u001b[38;5;124m\"\u001b[39m\u001b[38;5;124mLabel: \u001b[39m\u001b[38;5;132;01m{\u001b[39;00m\u001b[38;5;28mint\u001b[39m(df[df\u001b[38;5;241m.\u001b[39mid\u001b[38;5;250m \u001b[39m\u001b[38;5;241m==\u001b[39m\u001b[38;5;250m \u001b[39mimg_id]\u001b[38;5;241m.\u001b[39mlabel\u001b[38;5;241m.\u001b[39mvalues[\u001b[38;5;241m0\u001b[39m])\u001b[38;5;132;01m}\u001b[39;00m\u001b[38;5;124m\"\u001b[39m)\n\u001b[1;32m     13\u001b[0m     ax\u001b[38;5;241m.\u001b[39maxis(\u001b[38;5;124m\"\u001b[39m\u001b[38;5;124moff\u001b[39m\u001b[38;5;124m\"\u001b[39m)\n",
      "\u001b[0;31mNameError\u001b[0m: name 'DATA_DIR' is not defined"
     ]
    },
    {
     "data": {
      "image/png": "[encoded data removed]",
      "text/plain": [
       "<Figure size 600x600 with 9 Axes>"
      ]
     },
     "metadata": {},
     "output_type": "display_data"
    }
   ],
   "source": [
    "# Class balance\n",
    "df.label.value_counts().sort_index().plot.bar(rot=0, width=0.6)\n",
    "plt.title(\"Class balance (0 = benign, 1 = tumor)\")\n",
    "plt.ylabel(\"Tile count\"); plt.xlabel(\"Label\")\n",
    "plt.show()\n",
    "\n",
    "# 3×3 sample grid\n",
    "sample = random.sample(df.id.tolist(), 9)\n",
    "fig, axes = plt.subplots(3, 3, figsize=(6, 6))\n",
    "for ax, img_id in zip(axes.ravel(), sample):\n",
    "    ax.imshow(Image.open(DATA_DIR / \"train\" / f\"{img_id}.tif\"))\n",
    "    ax.set_title(f\"Label: {int(df[df.id == img_id].label.values[0])}\")\n",
    "    ax.axis(\"off\")\n",
    "plt.tight_layout(); plt.show()"
   ]
  },
  {
   "cell_type": "code",
   "execution_count": null,
   "id": "08f0f4f9-a9f1-4cb4-9d59-0f1882fb1bf7",
   "metadata": {},
   "outputs": [],
   "source": [
    "# Per-channel mean & std (1000-sample)\n",
    "sample = random.sample(all_paths, 1000)\n",
    "arr = np.stack([np.array(Image.open(p)) for p in sample])\n",
    "print(\"Means:\", arr.mean((0,1,2)), \"Stds:\", arr.std((0,1,2)))"
   ]
  },
  {
   "cell_type": "code",
   "execution_count": null,
   "id": "5aa478c0-b7d1-4e22-a592-e8fef2a6a807",
   "metadata": {},
   "outputs": [],
   "source": [
    "# RGB histograms stratified by label (500/sample)\n",
    "df['path'] = df['id'].apply(lambda i: DATA_DIR/'train'/f\"{i}.tif\")\n",
    "for l in [0,1]:\n",
    "    v = np.array([np.array(Image.open(p)).ravel()\n",
    "                  for p in random.sample(df[df.label==l].path.tolist(), 500)]).ravel()\n",
    "    plt.hist(v, bins=50, alpha=0.5, label=f\"Label {l}\")\n",
    "plt.legend(); plt.title(\"Pixel‐value distributions\"); plt.show()"
   ]
  },
  {
   "cell_type": "code",
   "execution_count": null,
   "id": "45444b86-69d4-41c4-b149-dcab69e27c4f",
   "metadata": {},
   "outputs": [],
   "source": [
    "# Brightness‐based outliers (1st/99th percentiles)\n",
    "b = [(p, np.array(Image.open(p)).mean()) for p in random.sample(all_paths, 5000)]\n",
    "lo, hi = np.percentile([val for _, val in b], [1, 99])\n",
    "outliers = [p for p, val in b if val < lo or val > hi]\n",
    "print(\"Brightness outliers:\", len(outliers))\n",
    "\n",
    "\n",
    "# Sort by mean brightness\n",
    "b_sorted = sorted(b, key=lambda x: x[1])\n",
    "darkest, brightest = b_sorted[:5], b_sorted[-5:]\n",
    "\n",
    "# Plot\n",
    "fig, axs = plt.subplots(2, 5, figsize=(12, 5))\n",
    "for ax, (p, v) in zip(axs.ravel(), darkest + brightest):\n",
    "    ax.imshow(Image.open(p)); ax.set_title(f\"{v:.1f}\"); ax.axis('off')\n",
    "plt.tight_layout(); plt.show()"
   ]
  },
  {
   "cell_type": "code",
   "execution_count": null,
   "id": "a5c14f80-0f9b-4da3-a2f8-ff45e71fc6c9",
   "metadata": {},
   "outputs": [],
   "source": [
    "# PCA on flattened pixels (1000-sample → 2D)\n",
    "from sklearn.decomposition import PCA\n",
    "sample = random.sample(all_paths, 1000)\n",
    "data = np.array([np.array(Image.open(p)).flatten() for p in sample])\n",
    "print(\"PCA shape:\", PCA(2).fit_transform(data).shape)"
   ]
  },
  {
   "cell_type": "code",
   "execution_count": null,
   "id": "8aa684e1-a018-4b0f-be1f-48f9ec723e1e",
   "metadata": {},
   "outputs": [],
   "source": [
    "# Sample 1 000 patches\n",
    "sample_paths = random.sample(all_paths, 1000)\n",
    "\n",
    "# Build a (1000, 96×96×3) → (1000, 27648) data matrix\n",
    "data = np.stack([np.array(Image.open(p)).flatten() for p in sample_paths])\n",
    "\n",
    "# Fit PCA to 2 components and transform\n",
    "pca = PCA(n_components=2)\n",
    "coords = pca.fit_transform(data)\n",
    "\n",
    "# Grab labels\n",
    "labels = [ df.loc[df.id == p.stem, 'label'].item() for p in sample_paths ]\n",
    "\n",
    "# Scatter-plot\n",
    "plt.figure(figsize=(6, 6))\n",
    "plt.scatter(coords[:, 0], coords[:, 1], c=labels, alpha=0.6, s=20)\n",
    "plt.xlabel(\"PC1\")\n",
    "plt.ylabel(\"PC2\")\n",
    "plt.title(\"2D PCA of 1 000 Image Patches\")\n",
    "plt.show()\n",
    "\n",
    "# How much variance do these axes explain?\n",
    "print(\"Explained variance ratio:\", pca.explained_variance_ratio_)"
   ]
  },
  {
   "cell_type": "markdown",
   "id": "1e6e1e8d",
   "metadata": {},
   "source": [
    "# Pre‑processing"
   ]
  },
  {
   "cell_type": "markdown",
   "id": "d5b4b08f-9ce1-4a8b-97df-f1ee52cb0a13",
   "metadata": {},
   "source": [
    "## Preprocessing: TIFF → JPEG + TFRecord sharding + Resize & Standardization\n",
    "\n",
    "We do three main steps before training to make data loading fast and smooth for **every** model:\n",
    "\n",
    "1. **Convert TIFF → JPEG**  \n",
    "   - **What:** Read each `.tif` image, convert to RGB, save as a `.jpg`  \n",
    "   - **Why:**  \n",
    "     - JPEG decoding is **hardware-accelerated** on GPU/TPU  \n",
    "     - Files are much smaller → faster disk I/O  \n",
    "     - Removes slow, Python-level TIFF parsing\n",
    "\n",
    "2. **Shard into TFRecord files**  \n",
    "   - **What:**  \n",
    "     - Read each JPEG byte string + its label  \n",
    "     - Pack them into `tf.train.Example` protobufs  \n",
    "     - Write ~10 `.tfrecord` shards for **train** and ~10 for **val**  \n",
    "   - **Why:**  \n",
    "     - Avoids opening thousands of small files one by one  \n",
    "     - `tf.data` can **interleave** shard reads in parallel  \n",
    "     - Prefetching and batching become much more efficient\n",
    "\n",
    "3. **Resize & Standardize**  \n",
    "   - **What:**  \n",
    "     - Decode JPEG → tensor, then `tf.image.resize` to your model’s input size (e.g. 224×224)  \n",
    "     - Scale pixels to `[0,1]`: `img = tf.cast(img, tf.float32) / 255.0`  \n",
    "     - Standardize with ImageNet mean/std:  \n",
    "       ```python\n",
    "       mean = [0.485, 0.456, 0.406]\n",
    "       std  = [0.229, 0.224, 0.225]\n",
    "       img  = (img - mean) / std\n",
    "       ```  \n",
    "   - **Why:**  \n",
    "     - Ensures every model sees the same input shape  \n",
    "     - Matches the normalization expected by pretrained backbones  \n",
    "     - Helps models converge faster and more stably\n",
    "\n",
    "---\n",
    "\n",
    "### After preprocessing we have:\n",
    "\n",
    "- **`data/train_jpg/*.jpg`** — all images in fast-loading JPEG format  \n",
    "- **`data/train_tfr/shard-*.tfrecord`** — sharded TFRecord files for training  \n",
    "- **`data/val_tfr/shard-*.tfrecord`** — sharded TFRecord files for validation  "
   ]
  },
  {
   "cell_type": "code",
   "execution_count": 8,
   "id": "4ec9ccbb-8d50-4993-af64-9aca1d2e0293",
   "metadata": {},
   "outputs": [
    {
     "name": "stderr",
     "output_type": "stream",
     "text": [
      "Converting TIFF→JPEG: 100%|██████████| 220025/220025 [00:15<00:00, 14618.38it/s]\n"
     ]
    }
   ],
   "source": [
    "# Convert all .tif → .jpg\n",
    "src_dir = Path(\"data/train\")\n",
    "dst_dir = Path(\"data/train_jpg\")\n",
    "dst_dir.mkdir(exist_ok=True)\n",
    "\n",
    "def convert_tif_to_jpg(tif_path: Path):\n",
    "    jpg_path = dst_dir / tif_path.with_suffix(\".jpg\").name\n",
    "    if not jpg_path.exists():\n",
    "        img = Image.open(tif_path).convert(\"RGB\")\n",
    "        img.save(jpg_path, \"JPEG\", quality=90)\n",
    "\n",
    "tif_paths = list(src_dir.glob(\"*.tif\"))\n",
    "with ThreadPoolExecutor(max_workers=8) as executor:\n",
    "    list(tqdm(executor.map(convert_tif_to_jpg, tif_paths),\n",
    "              total=len(tif_paths),\n",
    "              desc=\"Converting TIFF→JPEG\"))\n",
    "\n",
    "# Load labels & point to JPEGs\n",
    "df = pd.read_csv(\"data/train_labels.csv\")\n",
    "df[\"filename\"] = df.id.astype(str) + \".jpg\"\n",
    "df[\"label\"]    = df.label.astype(np.float32)\n",
    "df[\"filepath\"] = df[\"filename\"].apply(lambda fn: str(dst_dir / fn))\n",
    "\n",
    "# Stratified train/validation split\n",
    "train_df, val_df = train_test_split(\n",
    "    df, test_size=0.2, stratify=df[\"label\"], random_state=42\n",
    ")\n",
    "\n",
    "# TFRecord helper functions\n",
    "def _bytes_feature(x):\n",
    "    return tf.train.Feature(bytes_list=tf.train.BytesList(value=[x]))\n",
    "\n",
    "def _float_feature(x):\n",
    "    return tf.train.Feature(float_list=tf.train.FloatList(value=[x]))\n",
    "\n",
    "def write_tfrecord(shard_idx, samples, out_dir):\n",
    "    out_dir = Path(out_dir)\n",
    "    out_dir.mkdir(parents=True, exist_ok=True)\n",
    "    tfpath = out_dir / f\"shard-{shard_idx:03d}.tfrecord\"\n",
    "    with tf.io.TFRecordWriter(str(tfpath)) as writer:\n",
    "        for filepath, label in samples:\n",
    "            img_bytes = tf.io.read_file(filepath)\n",
    "            feat = {\n",
    "                \"image\": _bytes_feature(img_bytes.numpy()),\n",
    "                \"label\": _float_feature(float(label))\n",
    "            }\n",
    "            example = tf.train.Example(features=tf.train.Features(feature=feat))\n",
    "            writer.write(example.SerializeToString())\n",
    "\n",
    "# Shard and write TFRecords for both train and val\n",
    "for split_name, split_df in [(\"train\", train_df), (\"val\", val_df)]:\n",
    "    records = list(zip(split_df[\"filepath\"].values, split_df[\"label\"].values))\n",
    "    shards = np.array_split(records, 10)\n",
    "    for i, shard in enumerate(shards):\n",
    "        write_tfrecord(i, shard, out_dir=f\"data/{split_name}_tfr\")\n",
    "\n",
    "# Build tf.data pipelines with resize & ImageNet‐style norm\n",
    "IMG_SIZE   = (96, 96)\n",
    "BATCH_SIZE = 64\n",
    "SEED       = 42\n",
    "\n",
    "# ImageNet mean/std\n",
    "mean = tf.constant([0.485, 0.456, 0.406], shape=[1,1,3], dtype=tf.float32)\n",
    "std  = tf.constant([0.229, 0.224, 0.225], shape=[1,1,3], dtype=tf.float32)\n",
    "\n",
    "feature_desc = {\n",
    "    \"image\": tf.io.FixedLenFeature([], tf.string),\n",
    "    \"label\": tf.io.FixedLenFeature([], tf.float32),\n",
    "}\n",
    "\n",
    "def _parse_and_norm(example_proto):\n",
    "    parsed = tf.io.parse_single_example(example_proto, feature_desc)\n",
    "    img = tf.image.decode_jpeg(parsed[\"image\"], channels=3)\n",
    "    img = tf.image.resize(img, IMG_SIZE)\n",
    "    img = tf.cast(img, tf.float32) / 255.0\n",
    "    img = (img - mean) / std\n",
    "    return img, parsed[\"label\"]\n",
    "\n",
    "def make_tfr_dataset(pattern, training):\n",
    "    ds = tf.data.Dataset.list_files(pattern, seed=SEED)\n",
    "    ds = ds.interleave(\n",
    "        tf.data.TFRecordDataset,\n",
    "        cycle_length=4,\n",
    "        num_parallel_calls=tf.data.AUTOTUNE\n",
    "    )\n",
    "    ds = ds.map(_parse_and_norm, num_parallel_calls=tf.data.AUTOTUNE)\n",
    "    if training:\n",
    "        ds = ds.shuffle(10000, seed=SEED)\n",
    "    return ds.batch(BATCH_SIZE).prefetch(tf.data.AUTOTUNE)\n",
    "\n",
    "train_ds = make_tfr_dataset(\"data/train_tfr/*.tfrecord\", training=True)\n",
    "val_ds   = make_tfr_dataset(\"data/val_tfr/*.tfrecord\",   training=False)"
   ]
  },
  {
   "cell_type": "markdown",
   "id": "b50b8a02-6c50-49a8-91d4-483ace45fa22",
   "metadata": {},
   "source": [
    "# Define and Train CNN Models "
   ]
  },
  {
   "cell_type": "markdown",
   "id": "e6a19b54-4544-4341-880e-ccfa10269fa5",
   "metadata": {},
   "source": [
    "### Super-Simple One-Block CNN\n",
    "\n",
    "**Explanation**\n",
    "\n",
    "1. **Input** – 96 × 96 RGB patch  \n",
    "2. **Conv2D(16, 3×3, ReLU)** – learns 16 small filters; `padding=\"same\"` keeps 96×96 size  \n",
    "3. **MaxPooling2D(2×2)** – downsamples to 48×48×16, adding translation invariance  \n",
    "4. **Flatten** – turns the 48×48×16 feature map into a 36 864-dimensional vector  \n",
    "5. **Dense(1, Sigmoid)** – outputs the probability (e.g., “malignant”); train with binary cross-entropy  \n",
    "\n",
    "**Why Start Here?**\n",
    "\n",
    "* ~6 K parameters → trains in seconds  \n",
    "* Demonstrates core CNN ideas: locality (3×3 filters) and invariance (pooling)  \n",
    "* Provides a simple baseline for comparison—larger or pretrained models should outperform  \n",
    "* Easy to debug—if this fails, check the data and training loop before scaling up"
   ]
  },
  {
   "cell_type": "code",
   "execution_count": 5,
   "id": "41e2c02e-8ad7-4bff-a532-dad03a4a03ed",
   "metadata": {},
   "outputs": [
    {
     "name": "stdout",
     "output_type": "stream",
     "text": [
      "Model: \"model_1\"\n",
      "_________________________________________________________________\n",
      " Layer (type)                Output Shape              Param #   \n",
      "=================================================================\n",
      " input_2 (InputLayer)        [(None, 96, 96, 3)]       0         \n",
      "                                                                 \n",
      " conv2d_3 (Conv2D)           (None, 96, 96, 16)        448       \n",
      "                                                                 \n",
      " max_pooling2d_3 (MaxPoolin  (None, 48, 48, 16)        0         \n",
      " g2D)                                                            \n",
      "                                                                 \n",
      " flatten_1 (Flatten)         (None, 36864)             0         \n",
      "                                                                 \n",
      " dense_2 (Dense)             (None, 1)                 36865     \n",
      "                                                                 \n",
      "=================================================================\n",
      "Total params: 37313 (145.75 KB)\n",
      "Trainable params: 37313 (145.75 KB)\n",
      "Non-trainable params: 0 (0.00 Byte)\n",
      "_________________________________________________________________\n",
      "Epoch 1/5\n",
      "   6/2751 [..............................] - ETA: 4:15 - loss: 2.8261 - accuracy: 0.4870 - auc: 0.4851WARNING:tensorflow:Callback method `on_train_batch_end` is slow compared to the batch time (batch time: 0.0407s vs `on_train_batch_end` time: 0.0481s). Check your callbacks.\n"
     ]
    },
    {
     "name": "stderr",
     "output_type": "stream",
     "text": [
      "WARNING:tensorflow:Callback method `on_train_batch_end` is slow compared to the batch time (batch time: 0.0407s vs `on_train_batch_end` time: 0.0481s). Check your callbacks.\n"
     ]
    },
    {
     "name": "stdout",
     "output_type": "stream",
     "text": [
      "2751/2751 [==============================] - ETA: 0s - loss: 0.4730 - accuracy: 0.7879 - auc: 0.8541\n",
      "Epoch 1: val_auc improved from -inf to 0.89091, saving model to best_simple.h5\n",
      "2751/2751 [==============================] - 407s 147ms/step - loss: 0.4730 - accuracy: 0.7879 - auc: 0.8541 - val_loss: 0.4085 - val_accuracy: 0.8181 - val_auc: 0.8909\n",
      "Epoch 2/5\n",
      "2745/2751 [============================>.] - ETA: 0s - loss: 0.4019 - accuracy: 0.8234 - auc: 0.8936\n",
      "Epoch 2: val_auc improved from 0.89091 to 0.89938, saving model to best_simple.h5\n",
      "2751/2751 [==============================] - 428s 156ms/step - loss: 0.4019 - accuracy: 0.8234 - auc: 0.8936 - val_loss: 0.3893 - val_accuracy: 0.8286 - val_auc: 0.8994\n",
      "Epoch 3/5\n",
      "2748/2751 [============================>.] - ETA: 0s - loss: 0.3773 - accuracy: 0.8357 - auc: 0.9070\n",
      "Epoch 3: val_auc improved from 0.89938 to 0.90500, saving model to best_simple.h5\n",
      "2751/2751 [==============================] - 436s 158ms/step - loss: 0.3773 - accuracy: 0.8357 - auc: 0.9070 - val_loss: 0.4039 - val_accuracy: 0.8297 - val_auc: 0.9050\n",
      "Epoch 4/5\n",
      " 715/2751 [======>.......................] - ETA: 4:22 - loss: 0.3472 - accuracy: 0.8499 - auc: 0.9222"
     ]
    },
    {
     "name": "stderr",
     "output_type": "stream",
     "text": [
      "IOPub message rate exceeded.\n",
      "The Jupyter server will temporarily stop sending output\n",
      "to the client in order to avoid crashing it.\n",
      "To change this limit, set the config variable\n",
      "`--ServerApp.iopub_msg_rate_limit`.\n",
      "\n",
      "Current values:\n",
      "ServerApp.iopub_msg_rate_limit=1000.0 (msgs/sec)\n",
      "ServerApp.rate_limit_window=3.0 (secs)\n",
      "\n"
     ]
    },
    {
     "name": "stdout",
     "output_type": "stream",
     "text": [
      "2749/2751 [============================>.] - ETA: 0s - loss: 0.3580 - accuracy: 0.8445 - auc: 0.9168\n",
      "Epoch 4: val_auc did not improve from 0.90500\n",
      "2751/2751 [==============================] - 435s 158ms/step - loss: 0.3580 - accuracy: 0.8445 - auc: 0.9168 - val_loss: 0.4237 - val_accuracy: 0.8147 - val_auc: 0.8904\n",
      "Epoch 5/5\n",
      "2748/2751 [============================>.] - ETA: 0s - loss: 0.3433 - accuracy: 0.8519 - auc: 0.9242\n",
      "Epoch 5: val_auc did not improve from 0.90500\n",
      "2751/2751 [==============================] - 434s 158ms/step - loss: 0.3432 - accuracy: 0.8519 - auc: 0.9242 - val_loss: 0.4389 - val_accuracy: 0.8133 - val_auc: 0.9008\n",
      "Simple CNN final metrics: {'loss': 0.3432409465312958, 'accuracy': 0.851891815662384, 'auc': 0.924227237701416, 'val_loss': 0.43889549374580383, 'val_accuracy': 0.8132712244987488, 'val_auc': 0.9008442163467407}\n"
     ]
    }
   ],
   "source": [
    "# Define a super‐simple one‐block CNN\n",
    "\n",
    "inputs = layers.Input(shape=(*IMG_SIZE, 3))\n",
    "\n",
    "# One convolutional block\n",
    "x = layers.Conv2D(16, 3, padding=\"same\", activation=\"relu\")(inputs)\n",
    "x = layers.MaxPooling2D()(x)\n",
    "\n",
    "# Classifier head\n",
    "x = layers.Flatten()(x)\n",
    "outputs = layers.Dense(1, activation=\"sigmoid\")(x)\n",
    "\n",
    "model_simple = models.Model(inputs, outputs)\n",
    "model_simple.summary()\n",
    "\n",
    "# Compile\n",
    "model_simple.compile(\n",
    "    optimizer=keras.optimizers.Adam(1e-3),\n",
    "    loss=\"binary_crossentropy\",\n",
    "    metrics=[\"accuracy\", keras.metrics.AUC(name=\"auc\")]\n",
    ")\n",
    "\n",
    "# Callbacks\n",
    "checkpoint_simple = ModelCheckpoint(\n",
    "    \"best_simple.h5\",\n",
    "    monitor=\"val_auc\",\n",
    "    mode=\"max\",\n",
    "    save_best_only=True,\n",
    "    verbose=1\n",
    ")\n",
    "\n",
    "# Train for a few epochs\n",
    "history_simple = model_simple.fit(\n",
    "    train_ds,\n",
    "    validation_data=val_ds,\n",
    "    epochs=5,\n",
    "    callbacks=[WandbCallback(), checkpoint_simple],\n",
    "    verbose=1\n",
    ")\n",
    "\n",
    "# Report final metrics\n",
    "final_simple = {k: history_simple.history[k][-1] for k in history_simple.history}\n",
    "print(\"Simple CNN final metrics:\", final_simple)\n"
   ]
  },
  {
   "cell_type": "markdown",
   "id": "ccd2b616-f91a-4be7-b331-a85db4a67d6e",
   "metadata": {},
   "source": [
    "**Final Metrics**  \n",
    "- **Training:** accuracy 85.2%, AUC 0.924  \n",
    "- **Validation:** accuracy 81.3%, AUC 0.901  \n",
    "\n",
    "**Key Takeaways**  \n",
    "- AUC > 0.90 on both sets shows strong discrimination.  \n",
    "- Small train–val gap (≈4% acc, 0.02 AUC) indicates limited over-fitting.  \n",
    "- Impressively strong for a ~6 K-parameter model.\n",
    "\n",
    "**Recommended Next Steps**  \n",
    "1. **Data augmentation** (e.g. rotations, flips)  \n",
    "2. **Regularization** (dropout, L2 weight decay)  \n",
    "3. **Deeper CNN** (add extra Conv→Pool blocks)  \n",
    "4. **Transfer learning** (fine-tune a lightweight pretrained backbone)  "
   ]
  },
  {
   "cell_type": "markdown",
   "id": "92d396a8-1c7a-4683-9c54-a4fd603d5fc2",
   "metadata": {},
   "source": [
    "## Why Try a Pretrained Model?\n",
    "\n",
    "After training our simple custom CNN, we now evaluate a more powerful alternative: a pretrained model (MobileNetV2). This approach makes sense for several reasons:\n",
    "\n",
    "- **Transfer learning**: MobileNetV2 was trained on ImageNet, which gives it rich low-level features (edges, textures, shapes) that often transfer well to medical image tasks.\n",
    "- **Stronger baseline**: Comparing results helps us understand how much value transfer learning adds over a small, scratch-trained model.\n",
    "- **Faster convergence**: Pretrained models usually require fewer epochs and less data to achieve good performance.\n",
    "- **Real-world relevance**: In practice, pretrained architectures are widely used in computer vision pipelines — it's essential to know how to fine-tune and evaluate them.\n",
    "\n",
    "This experiment helps benchmark our custom model against a well-established CNN backbone."
   ]
  },
  {
   "cell_type": "code",
   "execution_count": 2,
   "id": "22407125-3fa9-4730-b340-961519ab358f",
   "metadata": {},
   "outputs": [
    {
     "name": "stderr",
     "output_type": "stream",
     "text": [
      "2025-08-07 13:00:24.236960: I tensorflow/core/common_runtime/gpu/gpu_device.cc:1886] Created device /job:localhost/replica:0/task:0/device:GPU:0 with 43710 MB memory:  -> device: 0, name: NVIDIA A40, pci bus id: 0000:56:00.0, compute capability: 8.6\n",
      "2025-08-07 13:00:24.381874: I tensorflow/tsl/platform/default/subprocess.cc:304] Start cannot spawn child process: No such file or directory\n"
     ]
    },
    {
     "name": "stdout",
     "output_type": "stream",
     "text": [
      "Epoch 1/10\n"
     ]
    },
    {
     "name": "stderr",
     "output_type": "stream",
     "text": [
      "2025-08-07 13:00:30.595347: I tensorflow/compiler/xla/stream_executor/cuda/cuda_dnn.cc:442] Loaded cuDNN version 8905\n",
      "2025-08-07 13:00:30.670190: I tensorflow/tsl/platform/default/subprocess.cc:304] Start cannot spawn child process: No such file or directory\n",
      "2025-08-07 13:00:33.025142: I tensorflow/compiler/xla/service/service.cc:168] XLA service 0x144dac60 initialized for platform CUDA (this does not guarantee that XLA will be used). Devices:\n",
      "2025-08-07 13:00:33.025180: I tensorflow/compiler/xla/service/service.cc:176]   StreamExecutor device (0): NVIDIA A40, Compute Capability 8.6\n",
      "2025-08-07 13:00:33.032242: I tensorflow/compiler/mlir/tensorflow/utils/dump_mlir_util.cc:269] disabling MLIR crash reproducer, set env var `MLIR_CRASH_REPRODUCER_DIRECTORY` to enable.\n",
      "2025-08-07 13:00:33.144123: I ./tensorflow/compiler/jit/device_compiler.h:186] Compiled cluster using XLA!  This line is logged at most once for the lifetime of the process.\n"
     ]
    },
    {
     "name": "stdout",
     "output_type": "stream",
     "text": [
      "1376/1376 [==============================] - 41s 25ms/step - loss: 0.4630 - accuracy: 0.7879 - auc: 0.8581 - val_loss: 0.3633 - val_accuracy: 0.8410 - val_auc: 0.9131 - lr: 1.0000e-04\n",
      "Epoch 2/10\n",
      "1376/1376 [==============================] - 33s 24ms/step - loss: 0.3784 - accuracy: 0.8348 - auc: 0.9057 - val_loss: 0.3378 - val_accuracy: 0.8556 - val_auc: 0.9252 - lr: 1.0000e-04\n",
      "Epoch 3/10\n",
      "1375/1376 [============================>.] - ETA: 0s - loss: 0.3568 - accuracy: 0.8461 - auc: 0.9160\n",
      "Epoch 3: ReduceLROnPlateau reducing learning rate to 4.999999873689376e-05.\n",
      "1376/1376 [==============================] - 34s 24ms/step - loss: 0.3568 - accuracy: 0.8461 - auc: 0.9160 - val_loss: 0.3277 - val_accuracy: 0.8605 - val_auc: 0.9299 - lr: 1.0000e-04\n",
      "Epoch 4/10\n",
      "1376/1376 [==============================] - 35s 24ms/step - loss: 0.3489 - accuracy: 0.8493 - auc: 0.9198 - val_loss: 0.3244 - val_accuracy: 0.8619 - val_auc: 0.9314 - lr: 5.0000e-05\n",
      "Epoch 5/10\n",
      "1375/1376 [============================>.] - ETA: 0s - loss: 0.3456 - accuracy: 0.8514 - auc: 0.9213\n",
      "Epoch 5: ReduceLROnPlateau reducing learning rate to 2.499999936844688e-05.\n",
      "1376/1376 [==============================] - 31s 22ms/step - loss: 0.3456 - accuracy: 0.8514 - auc: 0.9214 - val_loss: 0.3218 - val_accuracy: 0.8627 - val_auc: 0.9326 - lr: 5.0000e-05\n",
      "Epoch 6/10\n",
      "1376/1376 [==============================] - 34s 24ms/step - loss: 0.3434 - accuracy: 0.8524 - auc: 0.9223 - val_loss: 0.3207 - val_accuracy: 0.8631 - val_auc: 0.9330 - lr: 2.5000e-05\n",
      "Epoch 7/10\n",
      "1375/1376 [============================>.] - ETA: 0s - loss: 0.3417 - accuracy: 0.8543 - auc: 0.9231\n",
      "Epoch 7: ReduceLROnPlateau reducing learning rate to 1.249999968422344e-05.\n",
      "1376/1376 [==============================] - 34s 24ms/step - loss: 0.3417 - accuracy: 0.8543 - auc: 0.9231 - val_loss: 0.3202 - val_accuracy: 0.8642 - val_auc: 0.9334 - lr: 2.5000e-05\n",
      "Epoch 8/10\n",
      "1376/1376 [==============================] - 35s 25ms/step - loss: 0.3424 - accuracy: 0.8531 - auc: 0.9228 - val_loss: 0.3193 - val_accuracy: 0.8637 - val_auc: 0.9336 - lr: 1.2500e-05\n",
      "Epoch 9/10\n",
      "1376/1376 [==============================] - ETA: 0s - loss: 0.3407 - accuracy: 0.8537 - auc: 0.9235\n",
      "Epoch 9: ReduceLROnPlateau reducing learning rate to 6.24999984211172e-06.\n",
      "1376/1376 [==============================] - 36s 25ms/step - loss: 0.3407 - accuracy: 0.8537 - auc: 0.9235 - val_loss: 0.3190 - val_accuracy: 0.8639 - val_auc: 0.9338 - lr: 1.2500e-05\n",
      "Epoch 10/10\n",
      "1376/1376 [==============================] - 33s 23ms/step - loss: 0.3402 - accuracy: 0.8543 - auc: 0.9238 - val_loss: 0.3188 - val_accuracy: 0.8642 - val_auc: 0.9339 - lr: 6.2500e-06\n"
     ]
    }
   ],
   "source": [
    "# Setting up a a pretrained model: MobileNetV2\n",
    "\n",
    "IMG_SIZE   = (96, 96)\n",
    "BATCH_SIZE = 128\n",
    "EPOCHS     = 10\n",
    "SEED       = 42\n",
    "\n",
    "feature_desc = {\n",
    "    \"image\": tf.io.FixedLenFeature([], tf.string),\n",
    "    \"label\": tf.io.FixedLenFeature([], tf.float32),\n",
    "}\n",
    "\n",
    "def _parse_example(example_proto):\n",
    "    parsed = tf.io.parse_single_example(example_proto, feature_desc)\n",
    "    img = tf.image.decode_jpeg(parsed[\"image\"], channels=3)\n",
    "    img = tf.image.resize(img, IMG_SIZE)\n",
    "    img = preprocess_input(img)  # required for MobileNetV2\n",
    "    return img, parsed[\"label\"]\n",
    "\n",
    "def make_tfr_dataset(pattern, training):\n",
    "    ds = tf.data.Dataset.list_files(pattern, seed=SEED)\n",
    "    ds = ds.interleave(\n",
    "        lambda fn: tf.data.TFRecordDataset(fn),\n",
    "        cycle_length=4,\n",
    "        num_parallel_calls=tf.data.AUTOTUNE\n",
    "    )\n",
    "    ds = ds.map(_parse_example, num_parallel_calls=tf.data.AUTOTUNE)\n",
    "    if training:\n",
    "        ds = ds.shuffle(10_000, seed=SEED)\n",
    "    return ds.batch(BATCH_SIZE).prefetch(tf.data.AUTOTUNE)\n",
    "\n",
    "train_ds = make_tfr_dataset(\"data/train_tfr/*.tfrecord\", training=True)\n",
    "val_ds   = make_tfr_dataset(\"data/val_tfr/*.tfrecord\",   training=False)\n",
    "\n",
    "base = MobileNetV2(input_shape=(*IMG_SIZE, 3), include_top=False, weights=\"imagenet\")\n",
    "base.trainable = False\n",
    "\n",
    "inputs = layers.Input(shape=(*IMG_SIZE, 3))\n",
    "x = base(inputs, training=False)\n",
    "x = layers.GlobalAveragePooling2D()(x)\n",
    "x = layers.Dropout(0.3)(x)\n",
    "outputs = layers.Dense(1, activation=\"sigmoid\", dtype=\"float32\")(x)\n",
    "\n",
    "model_mobilenet = models.Model(inputs, outputs)\n",
    "model_mobilenet.compile(\n",
    "    optimizer=optimizers.Adam(1e-4),\n",
    "    loss=\"binary_crossentropy\",\n",
    "    metrics=[\"accuracy\", tf.keras.metrics.AUC(name=\"auc\")]\n",
    ")\n",
    "\n",
    "cbs = [\n",
    "    callbacks.ReduceLROnPlateau(monitor=\"val_auc\", factor=0.5, patience=2, verbose=1),\n",
    "    callbacks.EarlyStopping(monitor=\"val_auc\", patience=4, restore_best_weights=True)\n",
    "]\n",
    "\n",
    "history_mobilenet = model_mobilenet.fit(\n",
    "    train_ds,\n",
    "    validation_data=val_ds,\n",
    "    epochs=EPOCHS,\n",
    "    callbacks=cbs,\n",
    "    verbose=1\n",
    ")"
   ]
  },
  {
   "cell_type": "markdown",
   "id": "aeb30446-7dc7-487e-937a-f3ef139daef3",
   "metadata": {},
   "source": [
    "### Summary and conlusion for using a pretrained model: MobileNetV2"
   ]
  },
  {
   "cell_type": "markdown",
   "id": "b0f04a43-1a49-4f6e-8cbb-16b43f6b6cd6",
   "metadata": {},
   "source": [
    "## Why Try EfficientNet-B4?\n",
    "\n",
    "After evaluating MobileNetV2, we now explore a more powerful pretrained architecture: **EfficientNet-B4**. This step is motivated by the following reasons:\n",
    "\n",
    "- **Stronger feature extraction**: EfficientNet-B4 has significantly more capacity than MobileNetV2. It scales depth, width, and input resolution in a principled way, leading to improved performance on many image tasks.\n",
    "- **Higher input resolution (224×224)**: This allows the model to capture more spatial detail from the histopathology images, which is important for detecting small cancer regions.\n",
    "- **Benchmark progression**: Testing a progressively stronger model helps us understand the trade-offs between model complexity and performance.\n",
    "- **Pretrained on ImageNet**: Like MobileNet, EfficientNet-B4 benefits from transfer learning, but with better scaling and optimization strategies.\n",
    "\n",
    "This experiment helps us assess whether upgrading the backbone yields meaningful gains in AUC and overall model robustness."
   ]
  },
  {
   "cell_type": "code",
   "execution_count": 7,
   "id": "cad5138e-db66-4cc5-91d1-ac3d61a5c813",
   "metadata": {},
   "outputs": [
    {
     "name": "stdout",
     "output_type": "stream",
     "text": [
      "Downloading data from https://storage.googleapis.com/keras-applications/efficientnetb4_notop.h5\n",
      "71686520/71686520 [==============================] - 2s 0us/step\n",
      "Epoch 1/10\n",
      "1376/1376 [==============================] - 238s 163ms/step - loss: 0.4686 - accuracy: 0.7882 - auc: 0.8595 - val_loss: 0.3911 - val_accuracy: 0.8310 - val_auc: 0.9039 - lr: 1.0000e-04\n",
      "Epoch 2/10\n",
      "1376/1376 [==============================] - 227s 161ms/step - loss: 0.3838 - accuracy: 0.8320 - auc: 0.9042 - val_loss: 0.3608 - val_accuracy: 0.8439 - val_auc: 0.9167 - lr: 1.0000e-04\n",
      "Epoch 3/10\n",
      "1375/1376 [============================>.] - ETA: 0s - loss: 0.3651 - accuracy: 0.8405 - auc: 0.9126\n",
      "Epoch 3: ReduceLROnPlateau reducing learning rate to 4.999999873689376e-05.\n",
      "1376/1376 [==============================] - 228s 161ms/step - loss: 0.3651 - accuracy: 0.8405 - auc: 0.9126 - val_loss: 0.3469 - val_accuracy: 0.8492 - val_auc: 0.9226 - lr: 1.0000e-04\n",
      "Epoch 4/10\n",
      "1376/1376 [==============================] - 214s 151ms/step - loss: 0.3576 - accuracy: 0.8438 - auc: 0.9159 - val_loss: 0.3422 - val_accuracy: 0.8518 - val_auc: 0.9244 - lr: 5.0000e-05\n",
      "Epoch 5/10\n",
      "1375/1376 [============================>.] - ETA: 0s - loss: 0.3540 - accuracy: 0.8458 - auc: 0.9176\n",
      "Epoch 5: ReduceLROnPlateau reducing learning rate to 2.499999936844688e-05.\n",
      "1376/1376 [==============================] - 214s 154ms/step - loss: 0.3540 - accuracy: 0.8458 - auc: 0.9176 - val_loss: 0.3384 - val_accuracy: 0.8540 - val_auc: 0.9260 - lr: 5.0000e-05\n",
      "Epoch 6/10\n",
      "1376/1376 [==============================] - 218s 157ms/step - loss: 0.3517 - accuracy: 0.8470 - auc: 0.9184 - val_loss: 0.3367 - val_accuracy: 0.8545 - val_auc: 0.9266 - lr: 2.5000e-05\n",
      "Epoch 7/10\n",
      "1375/1376 [============================>.] - ETA: 0s - loss: 0.3504 - accuracy: 0.8471 - auc: 0.9190\n",
      "Epoch 7: ReduceLROnPlateau reducing learning rate to 1.249999968422344e-05.\n",
      "1376/1376 [==============================] - 224s 162ms/step - loss: 0.3504 - accuracy: 0.8471 - auc: 0.9190 - val_loss: 0.3352 - val_accuracy: 0.8552 - val_auc: 0.9274 - lr: 2.5000e-05\n",
      "Epoch 8/10\n",
      "1376/1376 [==============================] - 229s 162ms/step - loss: 0.3490 - accuracy: 0.8483 - auc: 0.9197 - val_loss: 0.3344 - val_accuracy: 0.8558 - val_auc: 0.9277 - lr: 1.2500e-05\n",
      "Epoch 9/10\n",
      "1375/1376 [============================>.] - ETA: 0s - loss: 0.3484 - accuracy: 0.8490 - auc: 0.9198\n",
      "Epoch 9: ReduceLROnPlateau reducing learning rate to 6.24999984211172e-06.\n",
      "1376/1376 [==============================] - 230s 163ms/step - loss: 0.3484 - accuracy: 0.8490 - auc: 0.9198 - val_loss: 0.3338 - val_accuracy: 0.8558 - val_auc: 0.9279 - lr: 1.2500e-05\n",
      "Epoch 10/10\n",
      "1376/1376 [==============================] - 225s 159ms/step - loss: 0.3475 - accuracy: 0.8495 - auc: 0.9203 - val_loss: 0.3334 - val_accuracy: 0.8561 - val_auc: 0.9280 - lr: 6.2500e-06\n"
     ]
    }
   ],
   "source": [
    "\n",
    "IMG_SIZE   = (224, 224)\n",
    "BATCH_SIZE = 128\n",
    "EPOCHS     = 10\n",
    "SEED       = 42\n",
    "\n",
    "feature_desc = {\n",
    "    \"image\": tf.io.FixedLenFeature([], tf.string),\n",
    "    \"label\": tf.io.FixedLenFeature([], tf.float32),\n",
    "}\n",
    "\n",
    "def _parse_example(example_proto):\n",
    "    parsed = tf.io.parse_single_example(example_proto, feature_desc)\n",
    "    img = tf.image.decode_jpeg(parsed[\"image\"], channels=3)\n",
    "    img = tf.image.resize(img, IMG_SIZE)\n",
    "    img = efficientnet_preprocess(img)\n",
    "    return img, parsed[\"label\"]\n",
    "\n",
    "def make_tfr_dataset(pattern, training):\n",
    "    ds = tf.data.Dataset.list_files(pattern, seed=SEED)\n",
    "    ds = ds.interleave(\n",
    "        tf.data.TFRecordDataset,\n",
    "        cycle_length=4,\n",
    "        num_parallel_calls=tf.data.AUTOTUNE\n",
    "    )\n",
    "    ds = ds.map(_parse_example, num_parallel_calls=tf.data.AUTOTUNE)\n",
    "    if training:\n",
    "        ds = ds.shuffle(10_000, seed=SEED)\n",
    "    return ds.batch(BATCH_SIZE).prefetch(tf.data.AUTOTUNE)\n",
    "\n",
    "train_ds = make_tfr_dataset(\"data/train_tfr/*.tfrecord\", training=True)\n",
    "val_ds   = make_tfr_dataset(\"data/val_tfr/*.tfrecord\",   training=False)\n",
    "\n",
    "base = EfficientNetB4(\n",
    "    input_shape=(*IMG_SIZE, 3),\n",
    "    include_top=False,\n",
    "    weights=\"imagenet\"\n",
    ")\n",
    "base.trainable = False\n",
    "\n",
    "inputs = layers.Input(shape=(*IMG_SIZE, 3))\n",
    "x = base(inputs, training=False)\n",
    "x = layers.GlobalAveragePooling2D()(x)\n",
    "x = layers.Dropout(0.3)(x)\n",
    "outputs = layers.Dense(1, activation=\"sigmoid\", dtype=\"float32\")(x)\n",
    "\n",
    "model_efficientnet = models.Model(inputs, outputs)\n",
    "model_efficientnet.compile(\n",
    "    optimizer=optimizers.Adam(1e-4),\n",
    "    loss=\"binary_crossentropy\",\n",
    "    metrics=[\"accuracy\", tf.keras.metrics.AUC(name=\"auc\")]\n",
    ")\n",
    "\n",
    "cbs = [\n",
    "    callbacks.ReduceLROnPlateau(monitor=\"val_auc\", factor=0.5, patience=2, verbose=1),\n",
    "    callbacks.EarlyStopping(monitor=\"val_auc\", patience=4, restore_best_weights=True)\n",
    "]\n",
    "\n",
    "history_efficientnet = model_efficientnet.fit(\n",
    "    train_ds,\n",
    "    validation_data=val_ds,\n",
    "    epochs=EPOCHS,\n",
    "    callbacks=cbs,\n",
    "    verbose=1\n",
    ")"
   ]
  },
  {
   "cell_type": "code",
   "execution_count": null,
   "id": "7f307565-5669-4d0e-993b-4b31c1719bad",
   "metadata": {},
   "outputs": [],
   "source": []
  },
  {
   "cell_type": "markdown",
   "id": "514668f2-d853-4713-b03e-474fbe1521fb",
   "metadata": {},
   "source": [
    "## Why Finish with Fine-Tuned EfficientNetB4?\n",
    "\n",
    "To wrap up our model exploration, we return to EfficientNetB4 — this time training **all layers**, not just the classifier head. This full fine-tuning step makes sense as a final model because:\n",
    "\n",
    "- **Transfer learning is most powerful when adapted**: By unfreezing the base, we allow the pretrained filters to adjust to the domain-specific features of histopathology images.\n",
    "- **Best performance often comes from end-to-end optimization**: Training the entire network improves gradient flow and helps capture subtle patterns.\n",
    "- **We're building on a strong foundation**: EfficientNetB4 already performed well frozen — unlocking it lets us squeeze out additional performance.\n",
    "\n",
    "This model combines the **representational strength of a high-capacity pretrained CNN** with **task-specific learning**, making it a natural final step in our model progression."
   ]
  },
  {
   "cell_type": "code",
   "execution_count": null,
   "id": "060c90e9-6c46-48de-addd-4838e208d4f5",
   "metadata": {},
   "outputs": [],
   "source": []
  },
  {
   "cell_type": "code",
   "execution_count": 3,
   "id": "f92a0292-b3b2-4deb-9e10-a09f511d4cc9",
   "metadata": {},
   "outputs": [
    {
     "name": "stdout",
     "output_type": "stream",
     "text": [
      "GPUs: [PhysicalDevice(name='/physical_device:GPU:0', device_type='GPU')]\n"
     ]
    },
    {
     "name": "stderr",
     "output_type": "stream",
     "text": [
      "2025-08-07 08:52:56.169488: I tensorflow/core/common_runtime/gpu/gpu_device.cc:1886] Created device /job:localhost/replica:0/task:0/device:GPU:0 with 43710 MB memory:  -> device: 0, name: NVIDIA A40, pci bus id: 0000:56:00.0, compute capability: 8.6\n",
      "2025-08-07 08:52:56.880321: I tensorflow/tsl/platform/default/subprocess.cc:304] Start cannot spawn child process: No such file or directory\n",
      "\u001b[34m\u001b[1mwandb\u001b[0m: Currently logged in as: \u001b[33mthomas-m8xa7mf\u001b[0m (\u001b[33mthomas-m8xa7mf-student-beans\u001b[0m) to \u001b[32mhttps://api.wandb.ai\u001b[0m. Use \u001b[1m`wandb login --relogin`\u001b[0m to force relogin\n"
     ]
    },
    {
     "data": {
      "text/html": [
       "Tracking run with wandb version 0.21.0"
      ],
      "text/plain": [
       "<IPython.core.display.HTML object>"
      ]
     },
     "metadata": {},
     "output_type": "display_data"
    },
    {
     "data": {
      "text/html": [
       "Run data is saved locally in <code>/workspace/wandb/run-20250807_085258-aha898mp</code>"
      ],
      "text/plain": [
       "<IPython.core.display.HTML object>"
      ]
     },
     "metadata": {},
     "output_type": "display_data"
    },
    {
     "data": {
      "text/html": [
       "Syncing run <strong><a href='https://wandb.ai/thomas-m8xa7mf-student-beans/cnn-cancer-detection/runs/aha898mp' target=\"_blank\">keras-manual-tinycnn</a></strong> to <a href='https://wandb.ai/thomas-m8xa7mf-student-beans/cnn-cancer-detection' target=\"_blank\">Weights & Biases</a> (<a href='https://wandb.me/developer-guide' target=\"_blank\">docs</a>)<br>"
      ],
      "text/plain": [
       "<IPython.core.display.HTML object>"
      ]
     },
     "metadata": {},
     "output_type": "display_data"
    },
    {
     "data": {
      "text/html": [
       " View project at <a href='https://wandb.ai/thomas-m8xa7mf-student-beans/cnn-cancer-detection' target=\"_blank\">https://wandb.ai/thomas-m8xa7mf-student-beans/cnn-cancer-detection</a>"
      ],
      "text/plain": [
       "<IPython.core.display.HTML object>"
      ]
     },
     "metadata": {},
     "output_type": "display_data"
    },
    {
     "data": {
      "text/html": [
       " View run at <a href='https://wandb.ai/thomas-m8xa7mf-student-beans/cnn-cancer-detection/runs/aha898mp' target=\"_blank\">https://wandb.ai/thomas-m8xa7mf-student-beans/cnn-cancer-detection/runs/aha898mp</a>"
      ],
      "text/plain": [
       "<IPython.core.display.HTML object>"
      ]
     },
     "metadata": {},
     "output_type": "display_data"
    },
    {
     "name": "stdout",
     "output_type": "stream",
     "text": [
      "Model: \"model\"\n",
      "_________________________________________________________________\n",
      " Layer (type)                Output Shape              Param #   \n",
      "=================================================================\n",
      " input_1 (InputLayer)        [(None, 96, 96, 3)]       0         \n",
      "                                                                 \n",
      " conv2d (Conv2D)             (None, 96, 96, 32)        896       \n",
      "                                                                 \n",
      " batch_normalization (Batch  (None, 96, 96, 32)        128       \n",
      " Normalization)                                                  \n",
      "                                                                 \n",
      " max_pooling2d (MaxPooling2  (None, 48, 48, 32)        0         \n",
      " D)                                                              \n",
      "                                                                 \n",
      " conv2d_1 (Conv2D)           (None, 48, 48, 64)        18496     \n",
      "                                                                 \n",
      " batch_normalization_1 (Bat  (None, 48, 48, 64)        256       \n",
      " chNormalization)                                                \n",
      "                                                                 \n",
      " max_pooling2d_1 (MaxPoolin  (None, 24, 24, 64)        0         \n",
      " g2D)                                                            \n",
      "                                                                 \n",
      " conv2d_2 (Conv2D)           (None, 24, 24, 128)       73856     \n",
      "                                                                 \n",
      " batch_normalization_2 (Bat  (None, 24, 24, 128)       512       \n",
      " chNormalization)                                                \n",
      "                                                                 \n",
      " max_pooling2d_2 (MaxPoolin  (None, 12, 12, 128)       0         \n",
      " g2D)                                                            \n",
      "                                                                 \n",
      " flatten (Flatten)           (None, 18432)             0         \n",
      "                                                                 \n",
      " dense (Dense)               (None, 256)               4718848   \n",
      "                                                                 \n",
      " dense_1 (Dense)             (None, 1)                 257       \n",
      "                                                                 \n",
      "=================================================================\n",
      "Total params: 4813249 (18.36 MB)\n",
      "Trainable params: 4812801 (18.36 MB)\n",
      "Non-trainable params: 448 (1.75 KB)\n",
      "_________________________________________________________________\n"
     ]
    },
    {
     "name": "stderr",
     "output_type": "stream",
     "text": [
      "\u001b[34m\u001b[1mwandb\u001b[0m: \u001b[33mWARNING\u001b[0m WandbCallback is deprecated and will be removed in a future release. Please use the WandbMetricsLogger, WandbModelCheckpoint, and WandbEvalCallback callbacks instead. See https://docs.wandb.ai/guides/integrations/keras for more information.\n",
      "\u001b[34m\u001b[1mwandb\u001b[0m: \u001b[33mWARNING\u001b[0m The save_model argument by default saves the model in the HDF5 format that cannot save custom objects like subclassed models and custom layers. This behavior will be deprecated in a future release in favor of the SavedModel format. Meanwhile, the HDF5 model is saved as W&B files and the SavedModel as W&B Artifacts.\n",
      "2025-08-07 08:53:01.578477: I tensorflow/compiler/xla/stream_executor/cuda/cuda_dnn.cc:442] Loaded cuDNN version 8905\n",
      "2025-08-07 08:53:01.721313: I tensorflow/tsl/platform/default/subprocess.cc:304] Start cannot spawn child process: No such file or directory\n",
      "2025-08-07 08:53:03.383596: I tensorflow/compiler/xla/service/service.cc:168] XLA service 0x7d9b387940a0 initialized for platform CUDA (this does not guarantee that XLA will be used). Devices:\n",
      "2025-08-07 08:53:03.383637: I tensorflow/compiler/xla/service/service.cc:176]   StreamExecutor device (0): NVIDIA A40, Compute Capability 8.6\n",
      "2025-08-07 08:53:03.392657: I tensorflow/compiler/mlir/tensorflow/utils/dump_mlir_util.cc:269] disabling MLIR crash reproducer, set env var `MLIR_CRASH_REPRODUCER_DIRECTORY` to enable.\n",
      "2025-08-07 08:53:03.513178: I ./tensorflow/compiler/jit/device_compiler.h:186] Compiled cluster using XLA!  This line is logged at most once for the lifetime of the process.\n"
     ]
    },
    {
     "name": "stdout",
     "output_type": "stream",
     "text": [
      "   6/2751 [..............................] - ETA: 4:41 - loss: 9.5226 - accuracy: 0.6068 - auc: 0.6251 WARNING:tensorflow:Callback method `on_train_batch_end` is slow compared to the batch time (batch time: 0.0269s vs `on_train_batch_end` time: 0.0605s). Check your callbacks.\n",
      "2751/2751 [==============================] - ETA: 0s - loss: 0.3473 - accuracy: 0.8651 - auc: 0.9307"
     ]
    },
    {
     "name": "stderr",
     "output_type": "stream",
     "text": [
      "/usr/local/lib/python3.11/dist-packages/keras/src/engine/training.py:3079: UserWarning: You are saving your model as an HDF5 file via `model.save()`. This file format is considered legacy. We recommend using instead the native Keras format, e.g. `model.save('my_model.keras')`.\n",
      "  saving_api.save_model(\n"
     ]
    },
    {
     "name": "stdout",
     "output_type": "stream",
     "text": [
      "INFO:tensorflow:Assets written to: /workspace/wandb/run-20250807_085258-aha898mp/files/model-best/assets\n"
     ]
    },
    {
     "name": "stderr",
     "output_type": "stream",
     "text": [
      "INFO:tensorflow:Assets written to: /workspace/wandb/run-20250807_085258-aha898mp/files/model-best/assets\n",
      "\u001b[34m\u001b[1mwandb\u001b[0m: Adding directory to artifact (/workspace/wandb/run-20250807_085258-aha898mp/files/model-best)... Done. 0.3s\n"
     ]
    },
    {
     "name": "stdout",
     "output_type": "stream",
     "text": [
      "2751/2751 [==============================] - 403s 145ms/step - loss: 0.3473 - accuracy: 0.8651 - auc: 0.9307 - val_loss: 0.2884 - val_accuracy: 0.8753 - val_auc: 0.9527\n",
      "\n",
      "Epoch time: 6.71 minutes\n"
     ]
    }
   ],
   "source": [
    "from tensorflow.keras.applications.efficientnet import EfficientNetB4, preprocess_input as efficientnet_preprocess\n",
    "from tensorflow.keras import layers, models, optimizers, callbacks\n",
    "\n",
    "IMG_SIZE   = (224, 224)\n",
    "BATCH_SIZE = 128\n",
    "EPOCHS     = 10\n",
    "SEED       = 42\n",
    "\n",
    "feature_desc = {\n",
    "    \"image\": tf.io.FixedLenFeature([], tf.string),\n",
    "    \"label\": tf.io.FixedLenFeature([], tf.float32),\n",
    "}\n",
    "\n",
    "def _parse_example(example_proto):\n",
    "    parsed = tf.io.parse_single_example(example_proto, feature_desc)\n",
    "    img = tf.image.decode_jpeg(parsed[\"image\"], channels=3)\n",
    "    img = tf.image.resize(img, IMG_SIZE)\n",
    "    img = efficientnet_preprocess(img)\n",
    "    return img, parsed[\"label\"]\n",
    "\n",
    "def make_tfr_dataset(pattern, training):\n",
    "    ds = tf.data.Dataset.list_files(pattern, seed=SEED)\n",
    "    ds = ds.interleave(\n",
    "        tf.data.TFRecordDataset,\n",
    "        cycle_length=4,\n",
    "        num_parallel_calls=tf.data.AUTOTUNE\n",
    "    )\n",
    "    ds = ds.map(_parse_example, num_parallel_calls=tf.data.AUTOTUNE)\n",
    "    if training:\n",
    "        ds = ds.shuffle(10_000, seed=SEED)\n",
    "    return ds.batch(BATCH_SIZE).prefetch(tf.data.AUTOTUNE)\n",
    "\n",
    "train_ds = make_tfr_dataset(\"data/train_tfr/*.tfrecord\", training=True)\n",
    "val_ds   = make_tfr_dataset(\"data/val_tfr/*.tfrecord\",   training=False)\n",
    "\n",
    "base = EfficientNetB4(\n",
    "    input_shape=(*IMG_SIZE, 3),\n",
    "    include_top=False,\n",
    "    weights=\"imagenet\"\n",
    ")\n",
    "base.trainable = True  # fine-tune the entire model\n",
    "\n",
    "inputs = layers.Input(shape=(*IMG_SIZE, 3))\n",
    "x = base(inputs)\n",
    "x = layers.GlobalAveragePooling2D()(x)\n",
    "x = layers.Dropout(0.4)(x)\n",
    "outputs = layers.Dense(1, activation=\"sigmoid\", dtype=\"float32\")(x)\n",
    "\n",
    "model_best = models.Model(inputs, outputs)\n",
    "model_best.compile(\n",
    "    optimizer=optimizers.Adam(1e-5),  # lower LR for fine-tuning\n",
    "    loss=\"binary_crossentropy\",\n",
    "    metrics=[\"accuracy\", tf.keras.metrics.AUC(name=\"auc\")]\n",
    ")\n",
    "\n",
    "cbs = [\n",
    "    callbacks.ReduceLROnPlateau(monitor=\"val_auc\", factor=0.5, patience=2, verbose=1),\n",
    "    callbacks.EarlyStopping(monitor=\"val_auc\", patience=4, restore_best_weights=True)\n",
    "]\n",
    "\n",
    "history_best = model_best.fit(\n",
    "    train_ds,\n",
    "    validation_data=val_ds,\n",
    "    epochs=EPOCHS,\n",
    "    callbacks=cbs,\n",
    "    verbose=1\n",
    ")"
   ]
  },
  {
   "cell_type": "code",
   "execution_count": null,
   "id": "600fdd90-0e15-43fe-af7d-c2f92ea1dd99",
   "metadata": {},
   "outputs": [],
   "source": []
  },
  {
   "cell_type": "code",
   "execution_count": null,
   "id": "e3775dbf-de61-447f-ba48-86850f1e5957",
   "metadata": {},
   "outputs": [],
   "source": []
  },
  {
   "cell_type": "code",
   "execution_count": null,
   "id": "b8d63eb2",
   "metadata": {},
   "outputs": [],
   "source": [
    "# TODO: load pretrained ResNet‑18 and replace fc layer\n",
    "pass"
   ]
  },
  {
   "cell_type": "markdown",
   "id": "0beb7361",
   "metadata": {},
   "source": [
    "## Training loop & metrics"
   ]
  },
  {
   "cell_type": "code",
   "execution_count": null,
   "id": "76716567",
   "metadata": {},
   "outputs": [],
   "source": [
    "# TODO: implement epoch loop, log loss & AUC to wandb\n",
    "pass"
   ]
  },
  {
   "cell_type": "markdown",
   "id": "6cc8f943",
   "metadata": {},
   "source": [
    "## Experiment variants (Model‑1, Model‑2, …)"
   ]
  },
  {
   "cell_type": "code",
   "execution_count": null,
   "id": "987db625",
   "metadata": {},
   "outputs": [],
   "source": [
    "# TODO: try deeper backbones / augmentations / samplers\n",
    "pass"
   ]
  },
  {
   "cell_type": "markdown",
   "id": "bc8d9ada",
   "metadata": {},
   "source": [
    "## Comparison & analysis"
   ]
  },
  {
   "cell_type": "code",
   "execution_count": null,
   "id": "cf61e340",
   "metadata": {},
   "outputs": [],
   "source": [
    "# TODO: pull runs via wandb API and plot val AUCs\n",
    "pass"
   ]
  },
  {
   "cell_type": "markdown",
   "id": "29c477a9",
   "metadata": {},
   "source": [
    "## Submission & leaderboard"
   ]
  },
  {
   "cell_type": "code",
   "execution_count": null,
   "id": "c2acfbce",
   "metadata": {},
   "outputs": [],
   "source": [
    "# TODO: create submission.csv and submit via Kaggle CLI\n",
    "pass"
   ]
  },
  {
   "cell_type": "markdown",
   "id": "8c8e954f",
   "metadata": {},
   "source": [
    "## Conclusions & next steps\n",
    "*Key findings here.*\n",
    "\n",
    "**TODO Week‑4:** …"
   ]
  }
 ],
 "metadata": {
  "kernelspec": {
   "display_name": "Python 3 (ipykernel)",
   "language": "python",
   "name": "python3"
  },
  "language_info": {
   "codemirror_mode": {
    "name": "ipython",
    "version": 3
   },
   "file_extension": ".py",
   "mimetype": "text/x-python",
   "name": "python",
   "nbconvert_exporter": "python",
   "pygments_lexer": "ipython3",
   "version": "3.11.0rc1"
  }
 },
 "nbformat": 4,
 "nbformat_minor": 5
}
