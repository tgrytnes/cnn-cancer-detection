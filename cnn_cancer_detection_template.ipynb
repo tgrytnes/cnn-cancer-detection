{
 "cells": [
  {
   "cell_type": "markdown",
   "id": "86f83f91",
   "metadata": {},
   "source": [
    "# CNN Cancer Detection – Week‑3 Notebook\n",
    "Kaggle Histopathologic Cancer Detection challenge\n",
    "\n",
    "*Goal:* build & iterate CNN models to classify histology image tiles as cancer vs. normal."
   ]
  },
  {
   "cell_type": "code",
   "execution_count": 1,
   "id": "4e0b73c5",
   "metadata": {
    "tags": [
     "setup",
     "hide-input"
    ]
   },
   "outputs": [
    {
     "name": "stdout",
     "output_type": "stream",
     "text": [
      "\u001b[33mWARNING: Running pip as the 'root' user can result in broken permissions and conflicting behaviour with the system package manager, possibly rendering your system unusable. It is recommended to use a virtual environment instead: https://pip.pypa.io/warnings/venv. Use the --root-user-action option if you know what you are doing and want to suppress this warning.\u001b[0m\u001b[33m\n",
      "\u001b[0m\n",
      "\u001b[1m[\u001b[0m\u001b[34;49mnotice\u001b[0m\u001b[1;39;49m]\u001b[0m\u001b[39;49m A new release of pip is available: \u001b[0m\u001b[31;49m25.0.1\u001b[0m\u001b[39;49m -> \u001b[0m\u001b[32;49m25.2\u001b[0m\n",
      "\u001b[1m[\u001b[0m\u001b[34;49mnotice\u001b[0m\u001b[1;39;49m]\u001b[0m\u001b[39;49m To update, run: \u001b[0m\u001b[32;49mpython -m pip install --upgrade pip\u001b[0m\n",
      "Note: you may need to restart the kernel to use updated packages.\n"
     ]
    }
   ],
   "source": [
    "# 📦----------------------------------------------------------------------\n",
    "# Environment & secrets (run once per kernel / after pod restart)\n",
    "%pip install -q kaggle wandb pandas matplotlib pillow\n",
    "\n",
    "import os, random, pathlib, numpy as np, torch, wandb\n",
    "\n",
    "# ── Reproducibility -----------------------------------------------------\n",
    "SEED = 42\n",
    "random.seed(SEED); np.random.seed(SEED); torch.manual_seed(SEED)\n",
    "\n",
    "# ── Paths ---------------------------------------------------------------\n",
    "PROJECT_ROOT = pathlib.Path.cwd()                  # usually /workspace\n",
    "DATA_DIR      = pathlib.Path(\"/workspace/data\")    # persistent dataset\n",
    "DATA_DIR.mkdir(exist_ok=True)\n",
    "\n",
    "# ── Kaggle CLI: tell it where the token lives ---------------------------\n",
    "os.environ[\"KAGGLE_CONFIG_DIR\"] = \"/workspace/.kaggle\"\n",
    "\n",
    "# ── W&B: persistent, prompt-once login ----------------------------------\n",
    "KEY_FILE = pathlib.Path(\"/workspace/.wandb_api_key\")\n",
    "if KEY_FILE.exists():                         # reuse stored key\n",
    "    os.environ[\"WANDB_API_KEY\"] = KEY_FILE.read_text().strip()\n",
    "    wandb.login(key=os.environ[\"WANDB_API_KEY\"], relogin=True)\n",
    "else:                                         # first run → ask & cache\n",
    "    wandb.login()                             # paste key when prompted\n",
    "    saved_key = os.getenv(\"WANDB_API_KEY\")\n",
    "    if saved_key:\n",
    "        KEY_FILE.write_text(saved_key)\n",
    "        KEY_FILE.chmod(0o600)                 # read/write for you only\n",
    "        print(f\"W&B API key saved to {KEY_FILE}\")\n",
    "# -----------------------------------------------------------------------"
   ]
  },
  {
   "cell_type": "markdown",
   "id": "ec1a5bba",
   "metadata": {},
   "source": [
    "## Data download & verification"
   ]
  },
  {
   "cell_type": "code",
   "execution_count": 1,
   "id": "631cebd1",
   "metadata": {},
   "outputs": [
    {
     "name": "stdout",
     "output_type": "stream",
     "text": [
      "Warning: Your Kaggle API key is readable by other users on this system! To fix this, you can run 'chmod 600 /workspace/.kaggle/kaggle.json'\n",
      "Downloading histopathologic-cancer-detection.zip to data\n",
      "100%|██████████████████████████████████████▉| 6.30G/6.31G [00:19<00:00, 350MB/s]\n",
      "100%|███████████████████████████████████████| 6.31G/6.31G [00:20<00:00, 331MB/s]\n",
      "/bin/bash: line 1: unzip: command not found\n",
      "0 training tiles\n"
     ]
    }
   ],
   "source": [
    "# Only run first time on new server!!\n",
    "\n",
    "from pathlib import Path\n",
    "DATA_DIR = Path(\"/workspace/data\")   # persistent volume\n",
    "DATA_DIR.mkdir(exist_ok=True)\n",
    "# Download competition data (~1.2 GB) to ./data\n",
    "!kaggle competitions download -c histopathologic-cancer-detection -p data\n",
    "!unzip -q data/histopathologic-cancer-detection.zip -d data\n",
    "import glob, json, subprocess, pathlib\n",
    "print(len(glob.glob('data/train/*.tif')), 'training tiles')"
   ]
  },
  {
   "cell_type": "markdown",
   "id": "61227b5e",
   "metadata": {},
   "source": [
    "## Quick EDA"
   ]
  },
  {
   "cell_type": "code",
   "execution_count": 1,
   "id": "60f3d637-5851-4f3d-995c-0653dfc55187",
   "metadata": {},
   "outputs": [
    {
     "ename": "ModuleNotFoundError",
     "evalue": "No module named 'pandas'",
     "output_type": "error",
     "traceback": [
      "\u001b[31m---------------------------------------------------------------------------\u001b[39m",
      "\u001b[31mModuleNotFoundError\u001b[39m                       Traceback (most recent call last)",
      "\u001b[36mCell\u001b[39m\u001b[36m \u001b[39m\u001b[32mIn[1]\u001b[39m\u001b[32m, line 1\u001b[39m\n\u001b[32m----> \u001b[39m\u001b[32m1\u001b[39m \u001b[38;5;28;01mimport\u001b[39;00m\u001b[38;5;250m \u001b[39m\u001b[34;01mpandas\u001b[39;00m\u001b[38;5;250m \u001b[39m\u001b[38;5;28;01mas\u001b[39;00m\u001b[38;5;250m \u001b[39m\u001b[34;01mpd\u001b[39;00m,\u001b[38;5;250m \u001b[39m\u001b[34;01mmatplotlib\u001b[39;00m\u001b[34;01m.\u001b[39;00m\u001b[34;01mpyplot\u001b[39;00m\u001b[38;5;250m \u001b[39m\u001b[38;5;28;01mas\u001b[39;00m\u001b[38;5;250m \u001b[39m\u001b[34;01mplt\u001b[39;00m,\u001b[38;5;250m \u001b[39m\u001b[34;01mrandom\u001b[39;00m,\u001b[38;5;250m \u001b[39m\u001b[34;01mpathlib\u001b[39;00m\n\u001b[32m      2\u001b[39m \u001b[38;5;28;01mfrom\u001b[39;00m\u001b[38;5;250m \u001b[39m\u001b[34;01mPIL\u001b[39;00m\u001b[38;5;250m \u001b[39m\u001b[38;5;28;01mimport\u001b[39;00m Image\n\u001b[32m      4\u001b[39m DATA_DIR = pathlib.Path(\u001b[33m\"\u001b[39m\u001b[33m/workspace/data\u001b[39m\u001b[33m\"\u001b[39m)\n",
      "\u001b[31mModuleNotFoundError\u001b[39m: No module named 'pandas'"
     ]
    }
   ],
   "source": [
    "import pandas as pd, matplotlib.pyplot as plt, random, pathlib\n",
    "from PIL import Image\n",
    "\n",
    "DATA_DIR = pathlib.Path(\"/workspace/data\")\n",
    "df       = pd.read_csv(DATA_DIR / \"train_labels.csv\")\n",
    "\n",
    "# Class balance\n",
    "df.label.value_counts().sort_index().plot.bar(rot=0, width=0.6)\n",
    "plt.title(\"Class balance (0 = benign, 1 = tumor)\")\n",
    "plt.ylabel(\"Tile count\"); plt.xlabel(\"Label\")\n",
    "plt.show()\n",
    "\n",
    "# 3×3 sample grid\n",
    "sample = random.sample(df.id.tolist(), 9)\n",
    "fig, axes = plt.subplots(3, 3, figsize=(6, 6))\n",
    "for ax, img_id in zip(axes.ravel(), sample):\n",
    "    ax.imshow(Image.open(DATA_DIR / \"train\" / f\"{img_id}.tif\"))\n",
    "    ax.set_title(f\"Label: {int(df[df.id == img_id].label.values[0])}\")\n",
    "    ax.axis(\"off\")\n",
    "plt.tight_layout(); plt.show()"
   ]
  },
  {
   "cell_type": "code",
   "execution_count": null,
   "id": "1cce92b7",
   "metadata": {},
   "outputs": [],
   "source": [
    "# TODO: show class balance & a 3×3 grid of random tiles\n",
    "pass"
   ]
  },
  {
   "cell_type": "markdown",
   "id": "1e6e1e8d",
   "metadata": {},
   "source": [
    "## Pre‑processing & Dataset class"
   ]
  },
  {
   "cell_type": "code",
   "execution_count": null,
   "id": "f10b0b78",
   "metadata": {},
   "outputs": [],
   "source": [
    "# TODO: define HistologyDataset with transforms\n",
    "pass"
   ]
  },
  {
   "cell_type": "markdown",
   "id": "acb138e6",
   "metadata": {},
   "source": [
    "## Baseline model – ResNet‑18"
   ]
  },
  {
   "cell_type": "code",
   "execution_count": null,
   "id": "b8d63eb2",
   "metadata": {},
   "outputs": [],
   "source": [
    "# TODO: load pretrained ResNet‑18 and replace fc layer\n",
    "pass"
   ]
  },
  {
   "cell_type": "markdown",
   "id": "0beb7361",
   "metadata": {},
   "source": [
    "## Training loop & metrics"
   ]
  },
  {
   "cell_type": "code",
   "execution_count": null,
   "id": "76716567",
   "metadata": {},
   "outputs": [],
   "source": [
    "# TODO: implement epoch loop, log loss & AUC to wandb\n",
    "pass"
   ]
  },
  {
   "cell_type": "markdown",
   "id": "6cc8f943",
   "metadata": {},
   "source": [
    "## Experiment variants (Model‑1, Model‑2, …)"
   ]
  },
  {
   "cell_type": "code",
   "execution_count": null,
   "id": "987db625",
   "metadata": {},
   "outputs": [],
   "source": [
    "# TODO: try deeper backbones / augmentations / samplers\n",
    "pass"
   ]
  },
  {
   "cell_type": "markdown",
   "id": "bc8d9ada",
   "metadata": {},
   "source": [
    "## Comparison & analysis"
   ]
  },
  {
   "cell_type": "code",
   "execution_count": null,
   "id": "cf61e340",
   "metadata": {},
   "outputs": [],
   "source": [
    "# TODO: pull runs via wandb API and plot val AUCs\n",
    "pass"
   ]
  },
  {
   "cell_type": "markdown",
   "id": "29c477a9",
   "metadata": {},
   "source": [
    "## Submission & leaderboard"
   ]
  },
  {
   "cell_type": "code",
   "execution_count": null,
   "id": "c2acfbce",
   "metadata": {},
   "outputs": [],
   "source": [
    "# TODO: create submission.csv and submit via Kaggle CLI\n",
    "pass"
   ]
  },
  {
   "cell_type": "markdown",
   "id": "8c8e954f",
   "metadata": {},
   "source": [
    "## Conclusions & next steps\n",
    "*Key findings here.*\n",
    "\n",
    "**TODO Week‑4:** …"
   ]
  }
 ],
 "metadata": {
  "kernelspec": {
   "display_name": "Python 3 (ipykernel)",
   "language": "python",
   "name": "python3"
  },
  "language_info": {
   "codemirror_mode": {
    "name": "ipython",
    "version": 3
   },
   "file_extension": ".py",
   "mimetype": "text/x-python",
   "name": "python",
   "nbconvert_exporter": "python",
   "pygments_lexer": "ipython3",
   "version": "3.11.11"
  }
 },
 "nbformat": 4,
 "nbformat_minor": 5
}
